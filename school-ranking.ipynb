{
 "cells": [
  {
   "cell_type": "markdown",
   "source": [
    "Criando os nomes"
   ],
   "metadata": {
    "collapsed": false
   }
  },
  {
   "cell_type": "code",
   "execution_count": 27,
   "metadata": {
    "collapsed": true
   },
   "outputs": [],
   "source": [
    "import pandas as pd\n",
    "import numpy as np"
   ]
  },
  {
   "cell_type": "markdown",
   "source": [
    "Import de dados do IBGE"
   ],
   "metadata": {
    "collapsed": false
   }
  },
  {
   "cell_type": "code",
   "execution_count": 21,
   "outputs": [],
   "source": [
    "nomes_m = pd.read_json('https://servicodados.ibge.gov.br/api/v1/censos/nomes/?qtd=200&sexo=m')\n",
    "nomes_f = pd.read_json('https://servicodados.ibge.gov.br/api/v1/censos/nomes/?qtd=200&sexo=f')"
   ],
   "metadata": {
    "collapsed": false,
    "pycharm": {
     "name": "#%%\n"
    }
   }
  },
  {
   "cell_type": "code",
   "execution_count": 22,
   "outputs": [
    {
     "data": {
      "text/plain": "      nome  regiao     freq  rank sexo\n0     JOSE       0  5732508     1    M\n1     JOAO       0  2971935     2    M\n2  ANTONIO       0  2567494     3    M",
      "text/html": "<div>\n<style scoped>\n    .dataframe tbody tr th:only-of-type {\n        vertical-align: middle;\n    }\n\n    .dataframe tbody tr th {\n        vertical-align: top;\n    }\n\n    .dataframe thead th {\n        text-align: right;\n    }\n</style>\n<table border=\"1\" class=\"dataframe\">\n  <thead>\n    <tr style=\"text-align: right;\">\n      <th></th>\n      <th>nome</th>\n      <th>regiao</th>\n      <th>freq</th>\n      <th>rank</th>\n      <th>sexo</th>\n    </tr>\n  </thead>\n  <tbody>\n    <tr>\n      <th>0</th>\n      <td>JOSE</td>\n      <td>0</td>\n      <td>5732508</td>\n      <td>1</td>\n      <td>M</td>\n    </tr>\n    <tr>\n      <th>1</th>\n      <td>JOAO</td>\n      <td>0</td>\n      <td>2971935</td>\n      <td>2</td>\n      <td>M</td>\n    </tr>\n    <tr>\n      <th>2</th>\n      <td>ANTONIO</td>\n      <td>0</td>\n      <td>2567494</td>\n      <td>3</td>\n      <td>M</td>\n    </tr>\n  </tbody>\n</table>\n</div>"
     },
     "execution_count": 22,
     "metadata": {},
     "output_type": "execute_result"
    }
   ],
   "source": [
    "nomes_m.head(3)"
   ],
   "metadata": {
    "collapsed": false,
    "pycharm": {
     "name": "#%%\n"
    }
   }
  },
  {
   "cell_type": "code",
   "execution_count": 23,
   "outputs": [
    {
     "data": {
      "text/plain": "        nome  regiao      freq  rank sexo\n0      MARIA       0  11694738     1    F\n1        ANA       0   3079729     2    F\n2  FRANCISCA       0    721637     3    F",
      "text/html": "<div>\n<style scoped>\n    .dataframe tbody tr th:only-of-type {\n        vertical-align: middle;\n    }\n\n    .dataframe tbody tr th {\n        vertical-align: top;\n    }\n\n    .dataframe thead th {\n        text-align: right;\n    }\n</style>\n<table border=\"1\" class=\"dataframe\">\n  <thead>\n    <tr style=\"text-align: right;\">\n      <th></th>\n      <th>nome</th>\n      <th>regiao</th>\n      <th>freq</th>\n      <th>rank</th>\n      <th>sexo</th>\n    </tr>\n  </thead>\n  <tbody>\n    <tr>\n      <th>0</th>\n      <td>MARIA</td>\n      <td>0</td>\n      <td>11694738</td>\n      <td>1</td>\n      <td>F</td>\n    </tr>\n    <tr>\n      <th>1</th>\n      <td>ANA</td>\n      <td>0</td>\n      <td>3079729</td>\n      <td>2</td>\n      <td>F</td>\n    </tr>\n    <tr>\n      <th>2</th>\n      <td>FRANCISCA</td>\n      <td>0</td>\n      <td>721637</td>\n      <td>3</td>\n      <td>F</td>\n    </tr>\n  </tbody>\n</table>\n</div>"
     },
     "execution_count": 23,
     "metadata": {},
     "output_type": "execute_result"
    }
   ],
   "source": [
    "nomes_f.head(3)\n"
   ],
   "metadata": {
    "collapsed": false,
    "pycharm": {
     "name": "#%%\n"
    }
   }
  },
  {
   "cell_type": "code",
   "execution_count": 24,
   "outputs": [
    {
     "name": "stdout",
     "output_type": "stream",
     "text": [
      "Quantidade de nomes: 400\n"
     ]
    }
   ],
   "source": [
    "print(\"Quantidade de nomes: \" + str(len(nomes_f) + len(nomes_m)))"
   ],
   "metadata": {
    "collapsed": false,
    "pycharm": {
     "name": "#%%\n"
    }
   }
  },
  {
   "cell_type": "code",
   "source": [
    "frames = [nomes_m, nomes_f]\n",
    "nomes = pd.concat(frames).nome.to_frame()\n",
    "nomes.sample(5) #pega dados aleatorios do df"
   ],
   "metadata": {
    "collapsed": false,
    "pycharm": {
     "name": "#%%\n"
    }
   },
   "execution_count": 25,
   "outputs": [
    {
     "data": {
      "text/plain": "       nome\n108   VILMA\n47    JULIO\n11   CAMILA\n165  EUNICE\n186    INES",
      "text/html": "<div>\n<style scoped>\n    .dataframe tbody tr th:only-of-type {\n        vertical-align: middle;\n    }\n\n    .dataframe tbody tr th {\n        vertical-align: top;\n    }\n\n    .dataframe thead th {\n        text-align: right;\n    }\n</style>\n<table border=\"1\" class=\"dataframe\">\n  <thead>\n    <tr style=\"text-align: right;\">\n      <th></th>\n      <th>nome</th>\n    </tr>\n  </thead>\n  <tbody>\n    <tr>\n      <th>108</th>\n      <td>VILMA</td>\n    </tr>\n    <tr>\n      <th>47</th>\n      <td>JULIO</td>\n    </tr>\n    <tr>\n      <th>11</th>\n      <td>CAMILA</td>\n    </tr>\n    <tr>\n      <th>165</th>\n      <td>EUNICE</td>\n    </tr>\n    <tr>\n      <th>186</th>\n      <td>INES</td>\n    </tr>\n  </tbody>\n</table>\n</div>"
     },
     "execution_count": 25,
     "metadata": {},
     "output_type": "execute_result"
    }
   ]
  },
  {
   "cell_type": "markdown",
   "source": [
    "Incluindo IDs"
   ],
   "metadata": {
    "collapsed": false
   }
  },
  {
   "cell_type": "code",
   "execution_count": 30,
   "outputs": [],
   "source": [
    "np.random.seed(123)"
   ],
   "metadata": {
    "collapsed": false,
    "pycharm": {
     "name": "#%%\n"
    }
   }
  },
  {
   "cell_type": "code",
   "execution_count": 31,
   "outputs": [
    {
     "data": {
      "text/plain": "          nome  id_aluno\n0         JOSE       235\n1         JOAO        43\n2      ANTONIO       304\n3    FRANCISCO       156\n4       CARLOS       343\n..         ...       ...\n195     ROSANE       231\n196    IVONETE        99\n197    LUCIANE       323\n198    ISADORA       383\n199      NILZA       366\n\n[400 rows x 2 columns]",
      "text/html": "<div>\n<style scoped>\n    .dataframe tbody tr th:only-of-type {\n        vertical-align: middle;\n    }\n\n    .dataframe tbody tr th {\n        vertical-align: top;\n    }\n\n    .dataframe thead th {\n        text-align: right;\n    }\n</style>\n<table border=\"1\" class=\"dataframe\">\n  <thead>\n    <tr style=\"text-align: right;\">\n      <th></th>\n      <th>nome</th>\n      <th>id_aluno</th>\n    </tr>\n  </thead>\n  <tbody>\n    <tr>\n      <th>0</th>\n      <td>JOSE</td>\n      <td>235</td>\n    </tr>\n    <tr>\n      <th>1</th>\n      <td>JOAO</td>\n      <td>43</td>\n    </tr>\n    <tr>\n      <th>2</th>\n      <td>ANTONIO</td>\n      <td>304</td>\n    </tr>\n    <tr>\n      <th>3</th>\n      <td>FRANCISCO</td>\n      <td>156</td>\n    </tr>\n    <tr>\n      <th>4</th>\n      <td>CARLOS</td>\n      <td>343</td>\n    </tr>\n    <tr>\n      <th>...</th>\n      <td>...</td>\n      <td>...</td>\n    </tr>\n    <tr>\n      <th>195</th>\n      <td>ROSANE</td>\n      <td>231</td>\n    </tr>\n    <tr>\n      <th>196</th>\n      <td>IVONETE</td>\n      <td>99</td>\n    </tr>\n    <tr>\n      <th>197</th>\n      <td>LUCIANE</td>\n      <td>323</td>\n    </tr>\n    <tr>\n      <th>198</th>\n      <td>ISADORA</td>\n      <td>383</td>\n    </tr>\n    <tr>\n      <th>199</th>\n      <td>NILZA</td>\n      <td>366</td>\n    </tr>\n  </tbody>\n</table>\n<p>400 rows × 2 columns</p>\n</div>"
     },
     "execution_count": 31,
     "metadata": {},
     "output_type": "execute_result"
    }
   ],
   "source": [
    "nomes['id_aluno'] = np.random.permutation(len(nomes)) + 1\n",
    "nomes"
   ],
   "metadata": {
    "collapsed": false,
    "pycharm": {
     "name": "#%%\n"
    }
   }
  },
  {
   "cell_type": "markdown",
   "source": [
    "Dominios de email"
   ],
   "metadata": {
    "collapsed": false
   }
  },
  {
   "cell_type": "code",
   "execution_count": 33,
   "outputs": [
    {
     "data": {
      "text/plain": "          nome  id_aluno                 dominio\n0         JOSE       235  @dominiodoemail.com.br\n1         JOAO        43     @servicodoemail.com\n2      ANTONIO       304  @dominiodoemail.com.br\n3    FRANCISCO       156     @servicodoemail.com\n4       CARLOS       343     @servicodoemail.com\n..         ...       ...                     ...\n195     ROSANE       231     @servicodoemail.com\n196    IVONETE        99  @dominiodoemail.com.br\n197    LUCIANE       323  @dominiodoemail.com.br\n198    ISADORA       383  @dominiodoemail.com.br\n199      NILZA       366     @servicodoemail.com\n\n[400 rows x 3 columns]",
      "text/html": "<div>\n<style scoped>\n    .dataframe tbody tr th:only-of-type {\n        vertical-align: middle;\n    }\n\n    .dataframe tbody tr th {\n        vertical-align: top;\n    }\n\n    .dataframe thead th {\n        text-align: right;\n    }\n</style>\n<table border=\"1\" class=\"dataframe\">\n  <thead>\n    <tr style=\"text-align: right;\">\n      <th></th>\n      <th>nome</th>\n      <th>id_aluno</th>\n      <th>dominio</th>\n    </tr>\n  </thead>\n  <tbody>\n    <tr>\n      <th>0</th>\n      <td>JOSE</td>\n      <td>235</td>\n      <td>@dominiodoemail.com.br</td>\n    </tr>\n    <tr>\n      <th>1</th>\n      <td>JOAO</td>\n      <td>43</td>\n      <td>@servicodoemail.com</td>\n    </tr>\n    <tr>\n      <th>2</th>\n      <td>ANTONIO</td>\n      <td>304</td>\n      <td>@dominiodoemail.com.br</td>\n    </tr>\n    <tr>\n      <th>3</th>\n      <td>FRANCISCO</td>\n      <td>156</td>\n      <td>@servicodoemail.com</td>\n    </tr>\n    <tr>\n      <th>4</th>\n      <td>CARLOS</td>\n      <td>343</td>\n      <td>@servicodoemail.com</td>\n    </tr>\n    <tr>\n      <th>...</th>\n      <td>...</td>\n      <td>...</td>\n      <td>...</td>\n    </tr>\n    <tr>\n      <th>195</th>\n      <td>ROSANE</td>\n      <td>231</td>\n      <td>@servicodoemail.com</td>\n    </tr>\n    <tr>\n      <th>196</th>\n      <td>IVONETE</td>\n      <td>99</td>\n      <td>@dominiodoemail.com.br</td>\n    </tr>\n    <tr>\n      <th>197</th>\n      <td>LUCIANE</td>\n      <td>323</td>\n      <td>@dominiodoemail.com.br</td>\n    </tr>\n    <tr>\n      <th>198</th>\n      <td>ISADORA</td>\n      <td>383</td>\n      <td>@dominiodoemail.com.br</td>\n    </tr>\n    <tr>\n      <th>199</th>\n      <td>NILZA</td>\n      <td>366</td>\n      <td>@servicodoemail.com</td>\n    </tr>\n  </tbody>\n</table>\n<p>400 rows × 3 columns</p>\n</div>"
     },
     "execution_count": 33,
     "metadata": {},
     "output_type": "execute_result"
    }
   ],
   "source": [
    "total_alunos = len(nomes)\n",
    "dominios = ['@dominiodoemail.com.br', '@servicodoemail.com']\n",
    "nomes['dominio'] = np.random.choice(dominios, total_alunos)\n",
    "nomes"
   ],
   "metadata": {
    "collapsed": false,
    "pycharm": {
     "name": "#%%\n"
    }
   }
  },
  {
   "cell_type": "markdown",
   "source": [
    "Concatenando nome com o email"
   ],
   "metadata": {
    "collapsed": false,
    "pycharm": {
     "name": "#%% md\n"
    }
   }
  },
  {
   "cell_type": "code",
   "execution_count": 34,
   "outputs": [
    {
     "data": {
      "text/plain": "          nome  id_aluno                 dominio  \\\n0         JOSE       235  @dominiodoemail.com.br   \n1         JOAO        43     @servicodoemail.com   \n2      ANTONIO       304  @dominiodoemail.com.br   \n3    FRANCISCO       156     @servicodoemail.com   \n4       CARLOS       343     @servicodoemail.com   \n..         ...       ...                     ...   \n195     ROSANE       231     @servicodoemail.com   \n196    IVONETE        99  @dominiodoemail.com.br   \n197    LUCIANE       323  @dominiodoemail.com.br   \n198    ISADORA       383  @dominiodoemail.com.br   \n199      NILZA       366     @servicodoemail.com   \n\n                             email  \n0       jose@dominiodoemail.com.br  \n1          joao@servicodoemail.com  \n2    antonio@dominiodoemail.com.br  \n3     francisco@servicodoemail.com  \n4        carlos@servicodoemail.com  \n..                             ...  \n195      rosane@servicodoemail.com  \n196  ivonete@dominiodoemail.com.br  \n197  luciane@dominiodoemail.com.br  \n198  isadora@dominiodoemail.com.br  \n199       nilza@servicodoemail.com  \n\n[400 rows x 4 columns]",
      "text/html": "<div>\n<style scoped>\n    .dataframe tbody tr th:only-of-type {\n        vertical-align: middle;\n    }\n\n    .dataframe tbody tr th {\n        vertical-align: top;\n    }\n\n    .dataframe thead th {\n        text-align: right;\n    }\n</style>\n<table border=\"1\" class=\"dataframe\">\n  <thead>\n    <tr style=\"text-align: right;\">\n      <th></th>\n      <th>nome</th>\n      <th>id_aluno</th>\n      <th>dominio</th>\n      <th>email</th>\n    </tr>\n  </thead>\n  <tbody>\n    <tr>\n      <th>0</th>\n      <td>JOSE</td>\n      <td>235</td>\n      <td>@dominiodoemail.com.br</td>\n      <td>jose@dominiodoemail.com.br</td>\n    </tr>\n    <tr>\n      <th>1</th>\n      <td>JOAO</td>\n      <td>43</td>\n      <td>@servicodoemail.com</td>\n      <td>joao@servicodoemail.com</td>\n    </tr>\n    <tr>\n      <th>2</th>\n      <td>ANTONIO</td>\n      <td>304</td>\n      <td>@dominiodoemail.com.br</td>\n      <td>antonio@dominiodoemail.com.br</td>\n    </tr>\n    <tr>\n      <th>3</th>\n      <td>FRANCISCO</td>\n      <td>156</td>\n      <td>@servicodoemail.com</td>\n      <td>francisco@servicodoemail.com</td>\n    </tr>\n    <tr>\n      <th>4</th>\n      <td>CARLOS</td>\n      <td>343</td>\n      <td>@servicodoemail.com</td>\n      <td>carlos@servicodoemail.com</td>\n    </tr>\n    <tr>\n      <th>...</th>\n      <td>...</td>\n      <td>...</td>\n      <td>...</td>\n      <td>...</td>\n    </tr>\n    <tr>\n      <th>195</th>\n      <td>ROSANE</td>\n      <td>231</td>\n      <td>@servicodoemail.com</td>\n      <td>rosane@servicodoemail.com</td>\n    </tr>\n    <tr>\n      <th>196</th>\n      <td>IVONETE</td>\n      <td>99</td>\n      <td>@dominiodoemail.com.br</td>\n      <td>ivonete@dominiodoemail.com.br</td>\n    </tr>\n    <tr>\n      <th>197</th>\n      <td>LUCIANE</td>\n      <td>323</td>\n      <td>@dominiodoemail.com.br</td>\n      <td>luciane@dominiodoemail.com.br</td>\n    </tr>\n    <tr>\n      <th>198</th>\n      <td>ISADORA</td>\n      <td>383</td>\n      <td>@dominiodoemail.com.br</td>\n      <td>isadora@dominiodoemail.com.br</td>\n    </tr>\n    <tr>\n      <th>199</th>\n      <td>NILZA</td>\n      <td>366</td>\n      <td>@servicodoemail.com</td>\n      <td>nilza@servicodoemail.com</td>\n    </tr>\n  </tbody>\n</table>\n<p>400 rows × 4 columns</p>\n</div>"
     },
     "execution_count": 34,
     "metadata": {},
     "output_type": "execute_result"
    }
   ],
   "source": [
    "nomes['email'] = nomes.nome.str.cat(nomes.dominio).str.lower()\n",
    "nomes"
   ],
   "metadata": {
    "collapsed": false,
    "pycharm": {
     "name": "#%%\n"
    }
   }
  }
 ],
 "metadata": {
  "kernelspec": {
   "display_name": "Python 3",
   "language": "python",
   "name": "python3"
  },
  "language_info": {
   "codemirror_mode": {
    "name": "ipython",
    "version": 2
   },
   "file_extension": ".py",
   "mimetype": "text/x-python",
   "name": "python",
   "nbconvert_exporter": "python",
   "pygments_lexer": "ipython2",
   "version": "2.7.6"
  }
 },
 "nbformat": 4,
 "nbformat_minor": 0
}