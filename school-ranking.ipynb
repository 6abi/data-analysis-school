{
 "cells": [
  {
   "cell_type": "markdown",
   "source": [
    "Criando os nomes"
   ],
   "metadata": {
    "collapsed": false
   }
  },
  {
   "cell_type": "code",
   "execution_count": 40,
   "metadata": {
    "collapsed": true
   },
   "outputs": [],
   "source": [
    "import pandas as pd\n",
    "import numpy as np"
   ]
  },
  {
   "cell_type": "markdown",
   "source": [
    "Import de dados do IBGE"
   ],
   "metadata": {
    "collapsed": false
   }
  },
  {
   "cell_type": "code",
   "execution_count": 41,
   "outputs": [],
   "source": [
    "nomes_m = pd.read_json('https://servicodados.ibge.gov.br/api/v1/censos/nomes/?qtd=200&sexo=m')\n",
    "nomes_f = pd.read_json('https://servicodados.ibge.gov.br/api/v1/censos/nomes/?qtd=200&sexo=f')"
   ],
   "metadata": {
    "collapsed": false,
    "pycharm": {
     "name": "#%%\n"
    }
   }
  },
  {
   "cell_type": "code",
   "execution_count": 42,
   "outputs": [
    {
     "data": {
      "text/plain": "      nome  regiao     freq  rank sexo\n0     JOSE       0  5732508     1    M\n1     JOAO       0  2971935     2    M\n2  ANTONIO       0  2567494     3    M",
      "text/html": "<div>\n<style scoped>\n    .dataframe tbody tr th:only-of-type {\n        vertical-align: middle;\n    }\n\n    .dataframe tbody tr th {\n        vertical-align: top;\n    }\n\n    .dataframe thead th {\n        text-align: right;\n    }\n</style>\n<table border=\"1\" class=\"dataframe\">\n  <thead>\n    <tr style=\"text-align: right;\">\n      <th></th>\n      <th>nome</th>\n      <th>regiao</th>\n      <th>freq</th>\n      <th>rank</th>\n      <th>sexo</th>\n    </tr>\n  </thead>\n  <tbody>\n    <tr>\n      <th>0</th>\n      <td>JOSE</td>\n      <td>0</td>\n      <td>5732508</td>\n      <td>1</td>\n      <td>M</td>\n    </tr>\n    <tr>\n      <th>1</th>\n      <td>JOAO</td>\n      <td>0</td>\n      <td>2971935</td>\n      <td>2</td>\n      <td>M</td>\n    </tr>\n    <tr>\n      <th>2</th>\n      <td>ANTONIO</td>\n      <td>0</td>\n      <td>2567494</td>\n      <td>3</td>\n      <td>M</td>\n    </tr>\n  </tbody>\n</table>\n</div>"
     },
     "execution_count": 42,
     "metadata": {},
     "output_type": "execute_result"
    }
   ],
   "source": [
    "nomes_m.head(3)"
   ],
   "metadata": {
    "collapsed": false,
    "pycharm": {
     "name": "#%%\n"
    }
   }
  },
  {
   "cell_type": "code",
   "execution_count": 43,
   "outputs": [
    {
     "data": {
      "text/plain": "        nome  regiao      freq  rank sexo\n0      MARIA       0  11694738     1    F\n1        ANA       0   3079729     2    F\n2  FRANCISCA       0    721637     3    F",
      "text/html": "<div>\n<style scoped>\n    .dataframe tbody tr th:only-of-type {\n        vertical-align: middle;\n    }\n\n    .dataframe tbody tr th {\n        vertical-align: top;\n    }\n\n    .dataframe thead th {\n        text-align: right;\n    }\n</style>\n<table border=\"1\" class=\"dataframe\">\n  <thead>\n    <tr style=\"text-align: right;\">\n      <th></th>\n      <th>nome</th>\n      <th>regiao</th>\n      <th>freq</th>\n      <th>rank</th>\n      <th>sexo</th>\n    </tr>\n  </thead>\n  <tbody>\n    <tr>\n      <th>0</th>\n      <td>MARIA</td>\n      <td>0</td>\n      <td>11694738</td>\n      <td>1</td>\n      <td>F</td>\n    </tr>\n    <tr>\n      <th>1</th>\n      <td>ANA</td>\n      <td>0</td>\n      <td>3079729</td>\n      <td>2</td>\n      <td>F</td>\n    </tr>\n    <tr>\n      <th>2</th>\n      <td>FRANCISCA</td>\n      <td>0</td>\n      <td>721637</td>\n      <td>3</td>\n      <td>F</td>\n    </tr>\n  </tbody>\n</table>\n</div>"
     },
     "execution_count": 43,
     "metadata": {},
     "output_type": "execute_result"
    }
   ],
   "source": [
    "nomes_f.head(3)\n"
   ],
   "metadata": {
    "collapsed": false,
    "pycharm": {
     "name": "#%%\n"
    }
   }
  },
  {
   "cell_type": "code",
   "execution_count": 44,
   "outputs": [
    {
     "name": "stdout",
     "output_type": "stream",
     "text": [
      "Quantidade de nomes: 400\n"
     ]
    }
   ],
   "source": [
    "print(\"Quantidade de nomes: \" + str(len(nomes_f) + len(nomes_m)))"
   ],
   "metadata": {
    "collapsed": false,
    "pycharm": {
     "name": "#%%\n"
    }
   }
  },
  {
   "cell_type": "code",
   "source": [
    "frames = [nomes_m, nomes_f]\n",
    "nomes = pd.concat(frames).nome.to_frame()\n",
    "nomes.sample(5) #pega dados aleatorios do df"
   ],
   "metadata": {
    "collapsed": false,
    "pycharm": {
     "name": "#%%\n"
    }
   },
   "execution_count": 45,
   "outputs": [
    {
     "data": {
      "text/plain": "         nome\n70    JOAQUIM\n152      LARA\n18   RAIMUNDO\n136    KARINA\n180     LIDIA",
      "text/html": "<div>\n<style scoped>\n    .dataframe tbody tr th:only-of-type {\n        vertical-align: middle;\n    }\n\n    .dataframe tbody tr th {\n        vertical-align: top;\n    }\n\n    .dataframe thead th {\n        text-align: right;\n    }\n</style>\n<table border=\"1\" class=\"dataframe\">\n  <thead>\n    <tr style=\"text-align: right;\">\n      <th></th>\n      <th>nome</th>\n    </tr>\n  </thead>\n  <tbody>\n    <tr>\n      <th>70</th>\n      <td>JOAQUIM</td>\n    </tr>\n    <tr>\n      <th>152</th>\n      <td>LARA</td>\n    </tr>\n    <tr>\n      <th>18</th>\n      <td>RAIMUNDO</td>\n    </tr>\n    <tr>\n      <th>136</th>\n      <td>KARINA</td>\n    </tr>\n    <tr>\n      <th>180</th>\n      <td>LIDIA</td>\n    </tr>\n  </tbody>\n</table>\n</div>"
     },
     "execution_count": 45,
     "metadata": {},
     "output_type": "execute_result"
    }
   ]
  },
  {
   "cell_type": "markdown",
   "source": [
    "Incluindo IDs"
   ],
   "metadata": {
    "collapsed": false
   }
  },
  {
   "cell_type": "code",
   "execution_count": 46,
   "outputs": [],
   "source": [
    "np.random.seed(123)"
   ],
   "metadata": {
    "collapsed": false,
    "pycharm": {
     "name": "#%%\n"
    }
   }
  },
  {
   "cell_type": "code",
   "execution_count": 47,
   "outputs": [
    {
     "data": {
      "text/plain": "          nome  id_aluno\n0         JOSE       235\n1         JOAO        43\n2      ANTONIO       304\n3    FRANCISCO       156\n4       CARLOS       343\n..         ...       ...\n195     ROSANE       231\n196    IVONETE        99\n197    LUCIANE       323\n198    ISADORA       383\n199      NILZA       366\n\n[400 rows x 2 columns]",
      "text/html": "<div>\n<style scoped>\n    .dataframe tbody tr th:only-of-type {\n        vertical-align: middle;\n    }\n\n    .dataframe tbody tr th {\n        vertical-align: top;\n    }\n\n    .dataframe thead th {\n        text-align: right;\n    }\n</style>\n<table border=\"1\" class=\"dataframe\">\n  <thead>\n    <tr style=\"text-align: right;\">\n      <th></th>\n      <th>nome</th>\n      <th>id_aluno</th>\n    </tr>\n  </thead>\n  <tbody>\n    <tr>\n      <th>0</th>\n      <td>JOSE</td>\n      <td>235</td>\n    </tr>\n    <tr>\n      <th>1</th>\n      <td>JOAO</td>\n      <td>43</td>\n    </tr>\n    <tr>\n      <th>2</th>\n      <td>ANTONIO</td>\n      <td>304</td>\n    </tr>\n    <tr>\n      <th>3</th>\n      <td>FRANCISCO</td>\n      <td>156</td>\n    </tr>\n    <tr>\n      <th>4</th>\n      <td>CARLOS</td>\n      <td>343</td>\n    </tr>\n    <tr>\n      <th>...</th>\n      <td>...</td>\n      <td>...</td>\n    </tr>\n    <tr>\n      <th>195</th>\n      <td>ROSANE</td>\n      <td>231</td>\n    </tr>\n    <tr>\n      <th>196</th>\n      <td>IVONETE</td>\n      <td>99</td>\n    </tr>\n    <tr>\n      <th>197</th>\n      <td>LUCIANE</td>\n      <td>323</td>\n    </tr>\n    <tr>\n      <th>198</th>\n      <td>ISADORA</td>\n      <td>383</td>\n    </tr>\n    <tr>\n      <th>199</th>\n      <td>NILZA</td>\n      <td>366</td>\n    </tr>\n  </tbody>\n</table>\n<p>400 rows × 2 columns</p>\n</div>"
     },
     "execution_count": 47,
     "metadata": {},
     "output_type": "execute_result"
    }
   ],
   "source": [
    "nomes['id_aluno'] = np.random.permutation(len(nomes)) + 1\n",
    "nomes"
   ],
   "metadata": {
    "collapsed": false,
    "pycharm": {
     "name": "#%%\n"
    }
   }
  },
  {
   "cell_type": "markdown",
   "source": [
    "Dominios de email"
   ],
   "metadata": {
    "collapsed": false
   }
  },
  {
   "cell_type": "code",
   "execution_count": 48,
   "outputs": [
    {
     "data": {
      "text/plain": "          nome  id_aluno                 dominio\n0         JOSE       235  @dominiodoemail.com.br\n1         JOAO        43     @servicodoemail.com\n2      ANTONIO       304     @servicodoemail.com\n3    FRANCISCO       156     @servicodoemail.com\n4       CARLOS       343     @servicodoemail.com\n..         ...       ...                     ...\n195     ROSANE       231  @dominiodoemail.com.br\n196    IVONETE        99     @servicodoemail.com\n197    LUCIANE       323  @dominiodoemail.com.br\n198    ISADORA       383     @servicodoemail.com\n199      NILZA       366     @servicodoemail.com\n\n[400 rows x 3 columns]",
      "text/html": "<div>\n<style scoped>\n    .dataframe tbody tr th:only-of-type {\n        vertical-align: middle;\n    }\n\n    .dataframe tbody tr th {\n        vertical-align: top;\n    }\n\n    .dataframe thead th {\n        text-align: right;\n    }\n</style>\n<table border=\"1\" class=\"dataframe\">\n  <thead>\n    <tr style=\"text-align: right;\">\n      <th></th>\n      <th>nome</th>\n      <th>id_aluno</th>\n      <th>dominio</th>\n    </tr>\n  </thead>\n  <tbody>\n    <tr>\n      <th>0</th>\n      <td>JOSE</td>\n      <td>235</td>\n      <td>@dominiodoemail.com.br</td>\n    </tr>\n    <tr>\n      <th>1</th>\n      <td>JOAO</td>\n      <td>43</td>\n      <td>@servicodoemail.com</td>\n    </tr>\n    <tr>\n      <th>2</th>\n      <td>ANTONIO</td>\n      <td>304</td>\n      <td>@servicodoemail.com</td>\n    </tr>\n    <tr>\n      <th>3</th>\n      <td>FRANCISCO</td>\n      <td>156</td>\n      <td>@servicodoemail.com</td>\n    </tr>\n    <tr>\n      <th>4</th>\n      <td>CARLOS</td>\n      <td>343</td>\n      <td>@servicodoemail.com</td>\n    </tr>\n    <tr>\n      <th>...</th>\n      <td>...</td>\n      <td>...</td>\n      <td>...</td>\n    </tr>\n    <tr>\n      <th>195</th>\n      <td>ROSANE</td>\n      <td>231</td>\n      <td>@dominiodoemail.com.br</td>\n    </tr>\n    <tr>\n      <th>196</th>\n      <td>IVONETE</td>\n      <td>99</td>\n      <td>@servicodoemail.com</td>\n    </tr>\n    <tr>\n      <th>197</th>\n      <td>LUCIANE</td>\n      <td>323</td>\n      <td>@dominiodoemail.com.br</td>\n    </tr>\n    <tr>\n      <th>198</th>\n      <td>ISADORA</td>\n      <td>383</td>\n      <td>@servicodoemail.com</td>\n    </tr>\n    <tr>\n      <th>199</th>\n      <td>NILZA</td>\n      <td>366</td>\n      <td>@servicodoemail.com</td>\n    </tr>\n  </tbody>\n</table>\n<p>400 rows × 3 columns</p>\n</div>"
     },
     "execution_count": 48,
     "metadata": {},
     "output_type": "execute_result"
    }
   ],
   "source": [
    "total_alunos = len(nomes)\n",
    "dominios = ['@dominiodoemail.com.br', '@servicodoemail.com']\n",
    "nomes['dominio'] = np.random.choice(dominios, total_alunos)\n",
    "nomes"
   ],
   "metadata": {
    "collapsed": false,
    "pycharm": {
     "name": "#%%\n"
    }
   }
  },
  {
   "cell_type": "markdown",
   "source": [
    "Concatenando nome com o email"
   ],
   "metadata": {
    "collapsed": false,
    "pycharm": {
     "name": "#%% md\n"
    }
   }
  },
  {
   "cell_type": "code",
   "execution_count": 49,
   "outputs": [
    {
     "data": {
      "text/plain": "          nome  id_aluno                 dominio  \\\n0         JOSE       235  @dominiodoemail.com.br   \n1         JOAO        43     @servicodoemail.com   \n2      ANTONIO       304     @servicodoemail.com   \n3    FRANCISCO       156     @servicodoemail.com   \n4       CARLOS       343     @servicodoemail.com   \n..         ...       ...                     ...   \n195     ROSANE       231  @dominiodoemail.com.br   \n196    IVONETE        99     @servicodoemail.com   \n197    LUCIANE       323  @dominiodoemail.com.br   \n198    ISADORA       383     @servicodoemail.com   \n199      NILZA       366     @servicodoemail.com   \n\n                             email  \n0       jose@dominiodoemail.com.br  \n1          joao@servicodoemail.com  \n2       antonio@servicodoemail.com  \n3     francisco@servicodoemail.com  \n4        carlos@servicodoemail.com  \n..                             ...  \n195   rosane@dominiodoemail.com.br  \n196     ivonete@servicodoemail.com  \n197  luciane@dominiodoemail.com.br  \n198     isadora@servicodoemail.com  \n199       nilza@servicodoemail.com  \n\n[400 rows x 4 columns]",
      "text/html": "<div>\n<style scoped>\n    .dataframe tbody tr th:only-of-type {\n        vertical-align: middle;\n    }\n\n    .dataframe tbody tr th {\n        vertical-align: top;\n    }\n\n    .dataframe thead th {\n        text-align: right;\n    }\n</style>\n<table border=\"1\" class=\"dataframe\">\n  <thead>\n    <tr style=\"text-align: right;\">\n      <th></th>\n      <th>nome</th>\n      <th>id_aluno</th>\n      <th>dominio</th>\n      <th>email</th>\n    </tr>\n  </thead>\n  <tbody>\n    <tr>\n      <th>0</th>\n      <td>JOSE</td>\n      <td>235</td>\n      <td>@dominiodoemail.com.br</td>\n      <td>jose@dominiodoemail.com.br</td>\n    </tr>\n    <tr>\n      <th>1</th>\n      <td>JOAO</td>\n      <td>43</td>\n      <td>@servicodoemail.com</td>\n      <td>joao@servicodoemail.com</td>\n    </tr>\n    <tr>\n      <th>2</th>\n      <td>ANTONIO</td>\n      <td>304</td>\n      <td>@servicodoemail.com</td>\n      <td>antonio@servicodoemail.com</td>\n    </tr>\n    <tr>\n      <th>3</th>\n      <td>FRANCISCO</td>\n      <td>156</td>\n      <td>@servicodoemail.com</td>\n      <td>francisco@servicodoemail.com</td>\n    </tr>\n    <tr>\n      <th>4</th>\n      <td>CARLOS</td>\n      <td>343</td>\n      <td>@servicodoemail.com</td>\n      <td>carlos@servicodoemail.com</td>\n    </tr>\n    <tr>\n      <th>...</th>\n      <td>...</td>\n      <td>...</td>\n      <td>...</td>\n      <td>...</td>\n    </tr>\n    <tr>\n      <th>195</th>\n      <td>ROSANE</td>\n      <td>231</td>\n      <td>@dominiodoemail.com.br</td>\n      <td>rosane@dominiodoemail.com.br</td>\n    </tr>\n    <tr>\n      <th>196</th>\n      <td>IVONETE</td>\n      <td>99</td>\n      <td>@servicodoemail.com</td>\n      <td>ivonete@servicodoemail.com</td>\n    </tr>\n    <tr>\n      <th>197</th>\n      <td>LUCIANE</td>\n      <td>323</td>\n      <td>@dominiodoemail.com.br</td>\n      <td>luciane@dominiodoemail.com.br</td>\n    </tr>\n    <tr>\n      <th>198</th>\n      <td>ISADORA</td>\n      <td>383</td>\n      <td>@servicodoemail.com</td>\n      <td>isadora@servicodoemail.com</td>\n    </tr>\n    <tr>\n      <th>199</th>\n      <td>NILZA</td>\n      <td>366</td>\n      <td>@servicodoemail.com</td>\n      <td>nilza@servicodoemail.com</td>\n    </tr>\n  </tbody>\n</table>\n<p>400 rows × 4 columns</p>\n</div>"
     },
     "execution_count": 49,
     "metadata": {},
     "output_type": "execute_result"
    }
   ],
   "source": [
    "nomes['email'] = nomes.nome.str.cat(nomes.dominio).str.lower()\n",
    "nomes"
   ],
   "metadata": {
    "collapsed": false,
    "pycharm": {
     "name": "#%%\n"
    }
   }
  },
  {
   "cell_type": "markdown",
   "source": [
    "Tabela de cursos"
   ],
   "metadata": {
    "collapsed": false
   }
  },
  {
   "cell_type": "code",
   "execution_count": 50,
   "outputs": [],
   "source": [
    "import html5lib"
   ],
   "metadata": {
    "collapsed": false,
    "pycharm": {
     "name": "#%%\n"
    }
   }
  },
  {
   "cell_type": "code",
   "execution_count": 51,
   "outputs": [
    {
     "data": {
      "text/plain": "[                          Nome do curso\n 0                 Lógica de programação\n 1                         Java para Web\n 2                           C# para Web\n 3                         Ruby on Rails\n 4                      Cursos de Python\n 5                         PHP com MySql\n 6                         .NET para web\n 7            Novas integrações com Java\n 8                          TDD com Java\n 9                   Código limpo com C#\n 10  Preparatório para certificação Java\n 11                      Hardware básico\n 12                Persistência com .NET\n 13                  Desenvolvendo jogos\n 14                     Análise de dados\n 15                   Estatística básica\n 16                  Internet das coisas\n 17                Programação funcional\n 18                Boas práticas em Java\n 19          Orientação objetos com Java]"
     },
     "execution_count": 51,
     "metadata": {},
     "output_type": "execute_result"
    }
   ],
   "source": [
    "url = 'http://tabela-cursos.herokuapp.com/index.html'\n",
    "cursos = pd.read_html(url)\n",
    "cursos"
   ],
   "metadata": {
    "collapsed": false,
    "pycharm": {
     "name": "#%%\n"
    }
   }
  },
  {
   "cell_type": "code",
   "execution_count": 52,
   "outputs": [
    {
     "data": {
      "text/plain": "list"
     },
     "execution_count": 52,
     "metadata": {},
     "output_type": "execute_result"
    }
   ],
   "source": [
    "type(cursos)"
   ],
   "metadata": {
    "collapsed": false,
    "pycharm": {
     "name": "#%%\n"
    }
   }
  },
  {
   "cell_type": "code",
   "execution_count": 53,
   "outputs": [
    {
     "data": {
      "text/plain": "pandas.core.frame.DataFrame"
     },
     "execution_count": 53,
     "metadata": {},
     "output_type": "execute_result"
    }
   ],
   "source": [
    "cursos = cursos[0] #convert lista para DF\n",
    "type(cursos)"
   ],
   "metadata": {
    "collapsed": false,
    "pycharm": {
     "name": "#%%\n"
    }
   }
  },
  {
   "cell_type": "markdown",
   "source": [
    "Alterando o index de cursos\n"
   ],
   "metadata": {
    "collapsed": false
   }
  },
  {
   "cell_type": "code",
   "execution_count": 54,
   "outputs": [
    {
     "data": {
      "text/plain": "                          nome_do_curso\n0                 Lógica de programação\n1                         Java para Web\n2                           C# para Web\n3                         Ruby on Rails\n4                      Cursos de Python\n5                         PHP com MySql\n6                         .NET para web\n7            Novas integrações com Java\n8                          TDD com Java\n9                   Código limpo com C#\n10  Preparatório para certificação Java\n11                      Hardware básico\n12                Persistência com .NET\n13                  Desenvolvendo jogos\n14                     Análise de dados\n15                   Estatística básica\n16                  Internet das coisas\n17                Programação funcional\n18                Boas práticas em Java\n19          Orientação objetos com Java",
      "text/html": "<div>\n<style scoped>\n    .dataframe tbody tr th:only-of-type {\n        vertical-align: middle;\n    }\n\n    .dataframe tbody tr th {\n        vertical-align: top;\n    }\n\n    .dataframe thead th {\n        text-align: right;\n    }\n</style>\n<table border=\"1\" class=\"dataframe\">\n  <thead>\n    <tr style=\"text-align: right;\">\n      <th></th>\n      <th>nome_do_curso</th>\n    </tr>\n  </thead>\n  <tbody>\n    <tr>\n      <th>0</th>\n      <td>Lógica de programação</td>\n    </tr>\n    <tr>\n      <th>1</th>\n      <td>Java para Web</td>\n    </tr>\n    <tr>\n      <th>2</th>\n      <td>C# para Web</td>\n    </tr>\n    <tr>\n      <th>3</th>\n      <td>Ruby on Rails</td>\n    </tr>\n    <tr>\n      <th>4</th>\n      <td>Cursos de Python</td>\n    </tr>\n    <tr>\n      <th>5</th>\n      <td>PHP com MySql</td>\n    </tr>\n    <tr>\n      <th>6</th>\n      <td>.NET para web</td>\n    </tr>\n    <tr>\n      <th>7</th>\n      <td>Novas integrações com Java</td>\n    </tr>\n    <tr>\n      <th>8</th>\n      <td>TDD com Java</td>\n    </tr>\n    <tr>\n      <th>9</th>\n      <td>Código limpo com C#</td>\n    </tr>\n    <tr>\n      <th>10</th>\n      <td>Preparatório para certificação Java</td>\n    </tr>\n    <tr>\n      <th>11</th>\n      <td>Hardware básico</td>\n    </tr>\n    <tr>\n      <th>12</th>\n      <td>Persistência com .NET</td>\n    </tr>\n    <tr>\n      <th>13</th>\n      <td>Desenvolvendo jogos</td>\n    </tr>\n    <tr>\n      <th>14</th>\n      <td>Análise de dados</td>\n    </tr>\n    <tr>\n      <th>15</th>\n      <td>Estatística básica</td>\n    </tr>\n    <tr>\n      <th>16</th>\n      <td>Internet das coisas</td>\n    </tr>\n    <tr>\n      <th>17</th>\n      <td>Programação funcional</td>\n    </tr>\n    <tr>\n      <th>18</th>\n      <td>Boas práticas em Java</td>\n    </tr>\n    <tr>\n      <th>19</th>\n      <td>Orientação objetos com Java</td>\n    </tr>\n  </tbody>\n</table>\n</div>"
     },
     "execution_count": 54,
     "metadata": {},
     "output_type": "execute_result"
    }
   ],
   "source": [
    "cursos = cursos.rename(columns={'Nome do curso' : 'nome_do_curso'})\n",
    "cursos"
   ],
   "metadata": {
    "collapsed": false,
    "pycharm": {
     "name": "#%%\n"
    }
   }
  },
  {
   "cell_type": "code",
   "execution_count": 55,
   "outputs": [
    {
     "data": {
      "text/plain": "           nome_do_curso  id\n0  Lógica de programação   1\n1          Java para Web   2\n2            C# para Web   3\n3          Ruby on Rails   4\n4       Cursos de Python   5",
      "text/html": "<div>\n<style scoped>\n    .dataframe tbody tr th:only-of-type {\n        vertical-align: middle;\n    }\n\n    .dataframe tbody tr th {\n        vertical-align: top;\n    }\n\n    .dataframe thead th {\n        text-align: right;\n    }\n</style>\n<table border=\"1\" class=\"dataframe\">\n  <thead>\n    <tr style=\"text-align: right;\">\n      <th></th>\n      <th>nome_do_curso</th>\n      <th>id</th>\n    </tr>\n  </thead>\n  <tbody>\n    <tr>\n      <th>0</th>\n      <td>Lógica de programação</td>\n      <td>1</td>\n    </tr>\n    <tr>\n      <th>1</th>\n      <td>Java para Web</td>\n      <td>2</td>\n    </tr>\n    <tr>\n      <th>2</th>\n      <td>C# para Web</td>\n      <td>3</td>\n    </tr>\n    <tr>\n      <th>3</th>\n      <td>Ruby on Rails</td>\n      <td>4</td>\n    </tr>\n    <tr>\n      <th>4</th>\n      <td>Cursos de Python</td>\n      <td>5</td>\n    </tr>\n  </tbody>\n</table>\n</div>"
     },
     "execution_count": 55,
     "metadata": {},
     "output_type": "execute_result"
    }
   ],
   "source": [
    "cursos['id'] = cursos.index + 1\n",
    "cursos.head(5)"
   ],
   "metadata": {
    "collapsed": false,
    "pycharm": {
     "name": "#%%\n"
    }
   }
  },
  {
   "cell_type": "markdown",
   "source": [
    "resetando index para usar o id como index"
   ],
   "metadata": {
    "collapsed": false
   }
  },
  {
   "cell_type": "code",
   "execution_count": 56,
   "outputs": [
    {
     "data": {
      "text/plain": "                          nome_do_curso\nid                                     \n1                 Lógica de programação\n2                         Java para Web\n3                           C# para Web\n4                         Ruby on Rails\n5                      Cursos de Python\n6                         PHP com MySql\n7                         .NET para web\n8            Novas integrações com Java\n9                          TDD com Java\n10                  Código limpo com C#\n11  Preparatório para certificação Java\n12                      Hardware básico\n13                Persistência com .NET\n14                  Desenvolvendo jogos\n15                     Análise de dados\n16                   Estatística básica\n17                  Internet das coisas\n18                Programação funcional\n19                Boas práticas em Java\n20          Orientação objetos com Java",
      "text/html": "<div>\n<style scoped>\n    .dataframe tbody tr th:only-of-type {\n        vertical-align: middle;\n    }\n\n    .dataframe tbody tr th {\n        vertical-align: top;\n    }\n\n    .dataframe thead th {\n        text-align: right;\n    }\n</style>\n<table border=\"1\" class=\"dataframe\">\n  <thead>\n    <tr style=\"text-align: right;\">\n      <th></th>\n      <th>nome_do_curso</th>\n    </tr>\n    <tr>\n      <th>id</th>\n      <th></th>\n    </tr>\n  </thead>\n  <tbody>\n    <tr>\n      <th>1</th>\n      <td>Lógica de programação</td>\n    </tr>\n    <tr>\n      <th>2</th>\n      <td>Java para Web</td>\n    </tr>\n    <tr>\n      <th>3</th>\n      <td>C# para Web</td>\n    </tr>\n    <tr>\n      <th>4</th>\n      <td>Ruby on Rails</td>\n    </tr>\n    <tr>\n      <th>5</th>\n      <td>Cursos de Python</td>\n    </tr>\n    <tr>\n      <th>6</th>\n      <td>PHP com MySql</td>\n    </tr>\n    <tr>\n      <th>7</th>\n      <td>.NET para web</td>\n    </tr>\n    <tr>\n      <th>8</th>\n      <td>Novas integrações com Java</td>\n    </tr>\n    <tr>\n      <th>9</th>\n      <td>TDD com Java</td>\n    </tr>\n    <tr>\n      <th>10</th>\n      <td>Código limpo com C#</td>\n    </tr>\n    <tr>\n      <th>11</th>\n      <td>Preparatório para certificação Java</td>\n    </tr>\n    <tr>\n      <th>12</th>\n      <td>Hardware básico</td>\n    </tr>\n    <tr>\n      <th>13</th>\n      <td>Persistência com .NET</td>\n    </tr>\n    <tr>\n      <th>14</th>\n      <td>Desenvolvendo jogos</td>\n    </tr>\n    <tr>\n      <th>15</th>\n      <td>Análise de dados</td>\n    </tr>\n    <tr>\n      <th>16</th>\n      <td>Estatística básica</td>\n    </tr>\n    <tr>\n      <th>17</th>\n      <td>Internet das coisas</td>\n    </tr>\n    <tr>\n      <th>18</th>\n      <td>Programação funcional</td>\n    </tr>\n    <tr>\n      <th>19</th>\n      <td>Boas práticas em Java</td>\n    </tr>\n    <tr>\n      <th>20</th>\n      <td>Orientação objetos com Java</td>\n    </tr>\n  </tbody>\n</table>\n</div>"
     },
     "execution_count": 56,
     "metadata": {},
     "output_type": "execute_result"
    }
   ],
   "source": [
    "cursos = cursos.set_index('id')\n",
    "cursos"
   ],
   "metadata": {
    "collapsed": false,
    "pycharm": {
     "name": "#%%\n"
    }
   }
  }
 ],
 "metadata": {
  "kernelspec": {
   "display_name": "Python 3",
   "language": "python",
   "name": "python3"
  },
  "language_info": {
   "codemirror_mode": {
    "name": "ipython",
    "version": 2
   },
   "file_extension": ".py",
   "mimetype": "text/x-python",
   "name": "python",
   "nbconvert_exporter": "python",
   "pygments_lexer": "ipython2",
   "version": "2.7.6"
  }
 },
 "nbformat": 4,
 "nbformat_minor": 0
}