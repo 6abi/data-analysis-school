{
 "cells": [
  {
   "cell_type": "markdown",
   "source": [
    "Criando os nomes"
   ],
   "metadata": {
    "collapsed": false
   }
  },
  {
   "cell_type": "code",
   "execution_count": 1,
   "metadata": {
    "collapsed": true
   },
   "outputs": [],
   "source": [
    "import pandas as pd\n",
    "import numpy as np"
   ]
  },
  {
   "cell_type": "markdown",
   "source": [
    "Import de dados do IBGE"
   ],
   "metadata": {
    "collapsed": false
   }
  },
  {
   "cell_type": "code",
   "execution_count": 2,
   "outputs": [],
   "source": [
    "nomes_m = pd.read_json('https://servicodados.ibge.gov.br/api/v1/censos/nomes/?qtd=200&sexo=m')\n",
    "nomes_f = pd.read_json('https://servicodados.ibge.gov.br/api/v1/censos/nomes/?qtd=200&sexo=f')"
   ],
   "metadata": {
    "collapsed": false,
    "pycharm": {
     "name": "#%%\n"
    }
   }
  },
  {
   "cell_type": "code",
   "execution_count": 3,
   "outputs": [
    {
     "data": {
      "text/plain": "      nome  regiao     freq  rank sexo\n0     JOSE       0  5732508     1    M\n1     JOAO       0  2971935     2    M\n2  ANTONIO       0  2567494     3    M",
      "text/html": "<div>\n<style scoped>\n    .dataframe tbody tr th:only-of-type {\n        vertical-align: middle;\n    }\n\n    .dataframe tbody tr th {\n        vertical-align: top;\n    }\n\n    .dataframe thead th {\n        text-align: right;\n    }\n</style>\n<table border=\"1\" class=\"dataframe\">\n  <thead>\n    <tr style=\"text-align: right;\">\n      <th></th>\n      <th>nome</th>\n      <th>regiao</th>\n      <th>freq</th>\n      <th>rank</th>\n      <th>sexo</th>\n    </tr>\n  </thead>\n  <tbody>\n    <tr>\n      <th>0</th>\n      <td>JOSE</td>\n      <td>0</td>\n      <td>5732508</td>\n      <td>1</td>\n      <td>M</td>\n    </tr>\n    <tr>\n      <th>1</th>\n      <td>JOAO</td>\n      <td>0</td>\n      <td>2971935</td>\n      <td>2</td>\n      <td>M</td>\n    </tr>\n    <tr>\n      <th>2</th>\n      <td>ANTONIO</td>\n      <td>0</td>\n      <td>2567494</td>\n      <td>3</td>\n      <td>M</td>\n    </tr>\n  </tbody>\n</table>\n</div>"
     },
     "execution_count": 3,
     "metadata": {},
     "output_type": "execute_result"
    }
   ],
   "source": [
    "nomes_m.head(3)"
   ],
   "metadata": {
    "collapsed": false,
    "pycharm": {
     "name": "#%%\n"
    }
   }
  },
  {
   "cell_type": "code",
   "execution_count": 4,
   "outputs": [
    {
     "data": {
      "text/plain": "        nome  regiao      freq  rank sexo\n0      MARIA       0  11694738     1    F\n1        ANA       0   3079729     2    F\n2  FRANCISCA       0    721637     3    F",
      "text/html": "<div>\n<style scoped>\n    .dataframe tbody tr th:only-of-type {\n        vertical-align: middle;\n    }\n\n    .dataframe tbody tr th {\n        vertical-align: top;\n    }\n\n    .dataframe thead th {\n        text-align: right;\n    }\n</style>\n<table border=\"1\" class=\"dataframe\">\n  <thead>\n    <tr style=\"text-align: right;\">\n      <th></th>\n      <th>nome</th>\n      <th>regiao</th>\n      <th>freq</th>\n      <th>rank</th>\n      <th>sexo</th>\n    </tr>\n  </thead>\n  <tbody>\n    <tr>\n      <th>0</th>\n      <td>MARIA</td>\n      <td>0</td>\n      <td>11694738</td>\n      <td>1</td>\n      <td>F</td>\n    </tr>\n    <tr>\n      <th>1</th>\n      <td>ANA</td>\n      <td>0</td>\n      <td>3079729</td>\n      <td>2</td>\n      <td>F</td>\n    </tr>\n    <tr>\n      <th>2</th>\n      <td>FRANCISCA</td>\n      <td>0</td>\n      <td>721637</td>\n      <td>3</td>\n      <td>F</td>\n    </tr>\n  </tbody>\n</table>\n</div>"
     },
     "execution_count": 4,
     "metadata": {},
     "output_type": "execute_result"
    }
   ],
   "source": [
    "nomes_f.head(3)\n"
   ],
   "metadata": {
    "collapsed": false,
    "pycharm": {
     "name": "#%%\n"
    }
   }
  },
  {
   "cell_type": "code",
   "execution_count": 5,
   "outputs": [
    {
     "name": "stdout",
     "output_type": "stream",
     "text": [
      "Quantidade de nomes: 400\n"
     ]
    }
   ],
   "source": [
    "print(\"Quantidade de nomes: \" + str(len(nomes_f) + len(nomes_m)))"
   ],
   "metadata": {
    "collapsed": false,
    "pycharm": {
     "name": "#%%\n"
    }
   }
  },
  {
   "cell_type": "code",
   "source": [
    "frames = [nomes_m, nomes_f]\n",
    "nomes = pd.concat(frames).nome.to_frame()\n",
    "nomes.sample(5) #pega dados aleatorios do df"
   ],
   "metadata": {
    "collapsed": false,
    "pycharm": {
     "name": "#%%\n"
    }
   },
   "execution_count": 6,
   "outputs": [
    {
     "data": {
      "text/plain": "       nome\n147  LILIAN\n166   KELLY\n21   MATEUS\n139   OSMAR\n17   FELIPE",
      "text/html": "<div>\n<style scoped>\n    .dataframe tbody tr th:only-of-type {\n        vertical-align: middle;\n    }\n\n    .dataframe tbody tr th {\n        vertical-align: top;\n    }\n\n    .dataframe thead th {\n        text-align: right;\n    }\n</style>\n<table border=\"1\" class=\"dataframe\">\n  <thead>\n    <tr style=\"text-align: right;\">\n      <th></th>\n      <th>nome</th>\n    </tr>\n  </thead>\n  <tbody>\n    <tr>\n      <th>147</th>\n      <td>LILIAN</td>\n    </tr>\n    <tr>\n      <th>166</th>\n      <td>KELLY</td>\n    </tr>\n    <tr>\n      <th>21</th>\n      <td>MATEUS</td>\n    </tr>\n    <tr>\n      <th>139</th>\n      <td>OSMAR</td>\n    </tr>\n    <tr>\n      <th>17</th>\n      <td>FELIPE</td>\n    </tr>\n  </tbody>\n</table>\n</div>"
     },
     "execution_count": 6,
     "metadata": {},
     "output_type": "execute_result"
    }
   ]
  },
  {
   "cell_type": "markdown",
   "source": [
    "Incluindo IDs"
   ],
   "metadata": {
    "collapsed": false
   }
  },
  {
   "cell_type": "code",
   "execution_count": 7,
   "outputs": [],
   "source": [
    "np.random.seed(123)"
   ],
   "metadata": {
    "collapsed": false,
    "pycharm": {
     "name": "#%%\n"
    }
   }
  },
  {
   "cell_type": "code",
   "execution_count": 8,
   "outputs": [
    {
     "data": {
      "text/plain": "          nome  id_aluno\n0         JOSE       235\n1         JOAO        43\n2      ANTONIO       304\n3    FRANCISCO       156\n4       CARLOS       343\n..         ...       ...\n195     ROSANE       231\n196    IVONETE        99\n197    LUCIANE       323\n198    ISADORA       383\n199      NILZA       366\n\n[400 rows x 2 columns]",
      "text/html": "<div>\n<style scoped>\n    .dataframe tbody tr th:only-of-type {\n        vertical-align: middle;\n    }\n\n    .dataframe tbody tr th {\n        vertical-align: top;\n    }\n\n    .dataframe thead th {\n        text-align: right;\n    }\n</style>\n<table border=\"1\" class=\"dataframe\">\n  <thead>\n    <tr style=\"text-align: right;\">\n      <th></th>\n      <th>nome</th>\n      <th>id_aluno</th>\n    </tr>\n  </thead>\n  <tbody>\n    <tr>\n      <th>0</th>\n      <td>JOSE</td>\n      <td>235</td>\n    </tr>\n    <tr>\n      <th>1</th>\n      <td>JOAO</td>\n      <td>43</td>\n    </tr>\n    <tr>\n      <th>2</th>\n      <td>ANTONIO</td>\n      <td>304</td>\n    </tr>\n    <tr>\n      <th>3</th>\n      <td>FRANCISCO</td>\n      <td>156</td>\n    </tr>\n    <tr>\n      <th>4</th>\n      <td>CARLOS</td>\n      <td>343</td>\n    </tr>\n    <tr>\n      <th>...</th>\n      <td>...</td>\n      <td>...</td>\n    </tr>\n    <tr>\n      <th>195</th>\n      <td>ROSANE</td>\n      <td>231</td>\n    </tr>\n    <tr>\n      <th>196</th>\n      <td>IVONETE</td>\n      <td>99</td>\n    </tr>\n    <tr>\n      <th>197</th>\n      <td>LUCIANE</td>\n      <td>323</td>\n    </tr>\n    <tr>\n      <th>198</th>\n      <td>ISADORA</td>\n      <td>383</td>\n    </tr>\n    <tr>\n      <th>199</th>\n      <td>NILZA</td>\n      <td>366</td>\n    </tr>\n  </tbody>\n</table>\n<p>400 rows × 2 columns</p>\n</div>"
     },
     "execution_count": 8,
     "metadata": {},
     "output_type": "execute_result"
    }
   ],
   "source": [
    "nomes['id_aluno'] = np.random.permutation(len(nomes)) + 1\n",
    "nomes"
   ],
   "metadata": {
    "collapsed": false,
    "pycharm": {
     "name": "#%%\n"
    }
   }
  },
  {
   "cell_type": "markdown",
   "source": [
    "Dominios de email"
   ],
   "metadata": {
    "collapsed": false
   }
  },
  {
   "cell_type": "code",
   "execution_count": 9,
   "outputs": [
    {
     "data": {
      "text/plain": "          nome  id_aluno                 dominio\n0         JOSE       235  @dominiodoemail.com.br\n1         JOAO        43     @servicodoemail.com\n2      ANTONIO       304     @servicodoemail.com\n3    FRANCISCO       156     @servicodoemail.com\n4       CARLOS       343     @servicodoemail.com\n..         ...       ...                     ...\n195     ROSANE       231  @dominiodoemail.com.br\n196    IVONETE        99     @servicodoemail.com\n197    LUCIANE       323  @dominiodoemail.com.br\n198    ISADORA       383     @servicodoemail.com\n199      NILZA       366     @servicodoemail.com\n\n[400 rows x 3 columns]",
      "text/html": "<div>\n<style scoped>\n    .dataframe tbody tr th:only-of-type {\n        vertical-align: middle;\n    }\n\n    .dataframe tbody tr th {\n        vertical-align: top;\n    }\n\n    .dataframe thead th {\n        text-align: right;\n    }\n</style>\n<table border=\"1\" class=\"dataframe\">\n  <thead>\n    <tr style=\"text-align: right;\">\n      <th></th>\n      <th>nome</th>\n      <th>id_aluno</th>\n      <th>dominio</th>\n    </tr>\n  </thead>\n  <tbody>\n    <tr>\n      <th>0</th>\n      <td>JOSE</td>\n      <td>235</td>\n      <td>@dominiodoemail.com.br</td>\n    </tr>\n    <tr>\n      <th>1</th>\n      <td>JOAO</td>\n      <td>43</td>\n      <td>@servicodoemail.com</td>\n    </tr>\n    <tr>\n      <th>2</th>\n      <td>ANTONIO</td>\n      <td>304</td>\n      <td>@servicodoemail.com</td>\n    </tr>\n    <tr>\n      <th>3</th>\n      <td>FRANCISCO</td>\n      <td>156</td>\n      <td>@servicodoemail.com</td>\n    </tr>\n    <tr>\n      <th>4</th>\n      <td>CARLOS</td>\n      <td>343</td>\n      <td>@servicodoemail.com</td>\n    </tr>\n    <tr>\n      <th>...</th>\n      <td>...</td>\n      <td>...</td>\n      <td>...</td>\n    </tr>\n    <tr>\n      <th>195</th>\n      <td>ROSANE</td>\n      <td>231</td>\n      <td>@dominiodoemail.com.br</td>\n    </tr>\n    <tr>\n      <th>196</th>\n      <td>IVONETE</td>\n      <td>99</td>\n      <td>@servicodoemail.com</td>\n    </tr>\n    <tr>\n      <th>197</th>\n      <td>LUCIANE</td>\n      <td>323</td>\n      <td>@dominiodoemail.com.br</td>\n    </tr>\n    <tr>\n      <th>198</th>\n      <td>ISADORA</td>\n      <td>383</td>\n      <td>@servicodoemail.com</td>\n    </tr>\n    <tr>\n      <th>199</th>\n      <td>NILZA</td>\n      <td>366</td>\n      <td>@servicodoemail.com</td>\n    </tr>\n  </tbody>\n</table>\n<p>400 rows × 3 columns</p>\n</div>"
     },
     "execution_count": 9,
     "metadata": {},
     "output_type": "execute_result"
    }
   ],
   "source": [
    "total_alunos = len(nomes)\n",
    "dominios = ['@dominiodoemail.com.br', '@servicodoemail.com']\n",
    "nomes['dominio'] = np.random.choice(dominios, total_alunos)\n",
    "nomes"
   ],
   "metadata": {
    "collapsed": false,
    "pycharm": {
     "name": "#%%\n"
    }
   }
  },
  {
   "cell_type": "markdown",
   "source": [
    "Concatenando nome com o email"
   ],
   "metadata": {
    "collapsed": false,
    "pycharm": {
     "name": "#%% md\n"
    }
   }
  },
  {
   "cell_type": "code",
   "execution_count": 10,
   "outputs": [
    {
     "data": {
      "text/plain": "          nome  id_aluno                 dominio  \\\n0         JOSE       235  @dominiodoemail.com.br   \n1         JOAO        43     @servicodoemail.com   \n2      ANTONIO       304     @servicodoemail.com   \n3    FRANCISCO       156     @servicodoemail.com   \n4       CARLOS       343     @servicodoemail.com   \n..         ...       ...                     ...   \n195     ROSANE       231  @dominiodoemail.com.br   \n196    IVONETE        99     @servicodoemail.com   \n197    LUCIANE       323  @dominiodoemail.com.br   \n198    ISADORA       383     @servicodoemail.com   \n199      NILZA       366     @servicodoemail.com   \n\n                             email  \n0       jose@dominiodoemail.com.br  \n1          joao@servicodoemail.com  \n2       antonio@servicodoemail.com  \n3     francisco@servicodoemail.com  \n4        carlos@servicodoemail.com  \n..                             ...  \n195   rosane@dominiodoemail.com.br  \n196     ivonete@servicodoemail.com  \n197  luciane@dominiodoemail.com.br  \n198     isadora@servicodoemail.com  \n199       nilza@servicodoemail.com  \n\n[400 rows x 4 columns]",
      "text/html": "<div>\n<style scoped>\n    .dataframe tbody tr th:only-of-type {\n        vertical-align: middle;\n    }\n\n    .dataframe tbody tr th {\n        vertical-align: top;\n    }\n\n    .dataframe thead th {\n        text-align: right;\n    }\n</style>\n<table border=\"1\" class=\"dataframe\">\n  <thead>\n    <tr style=\"text-align: right;\">\n      <th></th>\n      <th>nome</th>\n      <th>id_aluno</th>\n      <th>dominio</th>\n      <th>email</th>\n    </tr>\n  </thead>\n  <tbody>\n    <tr>\n      <th>0</th>\n      <td>JOSE</td>\n      <td>235</td>\n      <td>@dominiodoemail.com.br</td>\n      <td>jose@dominiodoemail.com.br</td>\n    </tr>\n    <tr>\n      <th>1</th>\n      <td>JOAO</td>\n      <td>43</td>\n      <td>@servicodoemail.com</td>\n      <td>joao@servicodoemail.com</td>\n    </tr>\n    <tr>\n      <th>2</th>\n      <td>ANTONIO</td>\n      <td>304</td>\n      <td>@servicodoemail.com</td>\n      <td>antonio@servicodoemail.com</td>\n    </tr>\n    <tr>\n      <th>3</th>\n      <td>FRANCISCO</td>\n      <td>156</td>\n      <td>@servicodoemail.com</td>\n      <td>francisco@servicodoemail.com</td>\n    </tr>\n    <tr>\n      <th>4</th>\n      <td>CARLOS</td>\n      <td>343</td>\n      <td>@servicodoemail.com</td>\n      <td>carlos@servicodoemail.com</td>\n    </tr>\n    <tr>\n      <th>...</th>\n      <td>...</td>\n      <td>...</td>\n      <td>...</td>\n      <td>...</td>\n    </tr>\n    <tr>\n      <th>195</th>\n      <td>ROSANE</td>\n      <td>231</td>\n      <td>@dominiodoemail.com.br</td>\n      <td>rosane@dominiodoemail.com.br</td>\n    </tr>\n    <tr>\n      <th>196</th>\n      <td>IVONETE</td>\n      <td>99</td>\n      <td>@servicodoemail.com</td>\n      <td>ivonete@servicodoemail.com</td>\n    </tr>\n    <tr>\n      <th>197</th>\n      <td>LUCIANE</td>\n      <td>323</td>\n      <td>@dominiodoemail.com.br</td>\n      <td>luciane@dominiodoemail.com.br</td>\n    </tr>\n    <tr>\n      <th>198</th>\n      <td>ISADORA</td>\n      <td>383</td>\n      <td>@servicodoemail.com</td>\n      <td>isadora@servicodoemail.com</td>\n    </tr>\n    <tr>\n      <th>199</th>\n      <td>NILZA</td>\n      <td>366</td>\n      <td>@servicodoemail.com</td>\n      <td>nilza@servicodoemail.com</td>\n    </tr>\n  </tbody>\n</table>\n<p>400 rows × 4 columns</p>\n</div>"
     },
     "execution_count": 10,
     "metadata": {},
     "output_type": "execute_result"
    }
   ],
   "source": [
    "nomes['email'] = nomes.nome.str.cat(nomes.dominio).str.lower()\n",
    "nomes"
   ],
   "metadata": {
    "collapsed": false,
    "pycharm": {
     "name": "#%%\n"
    }
   }
  },
  {
   "cell_type": "markdown",
   "source": [
    "Tabela de cursos"
   ],
   "metadata": {
    "collapsed": false
   }
  },
  {
   "cell_type": "code",
   "execution_count": 11,
   "outputs": [],
   "source": [
    "import html5lib"
   ],
   "metadata": {
    "collapsed": false,
    "pycharm": {
     "name": "#%%\n"
    }
   }
  },
  {
   "cell_type": "code",
   "execution_count": 12,
   "outputs": [
    {
     "data": {
      "text/plain": "[                          Nome do curso\n 0                 Lógica de programação\n 1                         Java para Web\n 2                           C# para Web\n 3                         Ruby on Rails\n 4                      Cursos de Python\n 5                         PHP com MySql\n 6                         .NET para web\n 7            Novas integrações com Java\n 8                          TDD com Java\n 9                   Código limpo com C#\n 10  Preparatório para certificação Java\n 11                      Hardware básico\n 12                Persistência com .NET\n 13                  Desenvolvendo jogos\n 14                     Análise de dados\n 15                   Estatística básica\n 16                  Internet das coisas\n 17                Programação funcional\n 18                Boas práticas em Java\n 19          Orientação objetos com Java]"
     },
     "execution_count": 12,
     "metadata": {},
     "output_type": "execute_result"
    }
   ],
   "source": [
    "url = 'http://tabela-cursos.herokuapp.com/index.html'\n",
    "cursos = pd.read_html(url)\n",
    "cursos"
   ],
   "metadata": {
    "collapsed": false,
    "pycharm": {
     "name": "#%%\n"
    }
   }
  },
  {
   "cell_type": "code",
   "execution_count": 13,
   "outputs": [
    {
     "data": {
      "text/plain": "list"
     },
     "execution_count": 13,
     "metadata": {},
     "output_type": "execute_result"
    }
   ],
   "source": [
    "type(cursos)"
   ],
   "metadata": {
    "collapsed": false,
    "pycharm": {
     "name": "#%%\n"
    }
   }
  },
  {
   "cell_type": "code",
   "execution_count": 14,
   "outputs": [
    {
     "data": {
      "text/plain": "pandas.core.frame.DataFrame"
     },
     "execution_count": 14,
     "metadata": {},
     "output_type": "execute_result"
    }
   ],
   "source": [
    "cursos = cursos[0] #convert lista para DF\n",
    "type(cursos)"
   ],
   "metadata": {
    "collapsed": false,
    "pycharm": {
     "name": "#%%\n"
    }
   }
  },
  {
   "cell_type": "markdown",
   "source": [
    "Alterando o index de cursos\n"
   ],
   "metadata": {
    "collapsed": false
   }
  },
  {
   "cell_type": "code",
   "execution_count": 15,
   "outputs": [
    {
     "data": {
      "text/plain": "                          nome_do_curso\n0                 Lógica de programação\n1                         Java para Web\n2                           C# para Web\n3                         Ruby on Rails\n4                      Cursos de Python\n5                         PHP com MySql\n6                         .NET para web\n7            Novas integrações com Java\n8                          TDD com Java\n9                   Código limpo com C#\n10  Preparatório para certificação Java\n11                      Hardware básico\n12                Persistência com .NET\n13                  Desenvolvendo jogos\n14                     Análise de dados\n15                   Estatística básica\n16                  Internet das coisas\n17                Programação funcional\n18                Boas práticas em Java\n19          Orientação objetos com Java",
      "text/html": "<div>\n<style scoped>\n    .dataframe tbody tr th:only-of-type {\n        vertical-align: middle;\n    }\n\n    .dataframe tbody tr th {\n        vertical-align: top;\n    }\n\n    .dataframe thead th {\n        text-align: right;\n    }\n</style>\n<table border=\"1\" class=\"dataframe\">\n  <thead>\n    <tr style=\"text-align: right;\">\n      <th></th>\n      <th>nome_do_curso</th>\n    </tr>\n  </thead>\n  <tbody>\n    <tr>\n      <th>0</th>\n      <td>Lógica de programação</td>\n    </tr>\n    <tr>\n      <th>1</th>\n      <td>Java para Web</td>\n    </tr>\n    <tr>\n      <th>2</th>\n      <td>C# para Web</td>\n    </tr>\n    <tr>\n      <th>3</th>\n      <td>Ruby on Rails</td>\n    </tr>\n    <tr>\n      <th>4</th>\n      <td>Cursos de Python</td>\n    </tr>\n    <tr>\n      <th>5</th>\n      <td>PHP com MySql</td>\n    </tr>\n    <tr>\n      <th>6</th>\n      <td>.NET para web</td>\n    </tr>\n    <tr>\n      <th>7</th>\n      <td>Novas integrações com Java</td>\n    </tr>\n    <tr>\n      <th>8</th>\n      <td>TDD com Java</td>\n    </tr>\n    <tr>\n      <th>9</th>\n      <td>Código limpo com C#</td>\n    </tr>\n    <tr>\n      <th>10</th>\n      <td>Preparatório para certificação Java</td>\n    </tr>\n    <tr>\n      <th>11</th>\n      <td>Hardware básico</td>\n    </tr>\n    <tr>\n      <th>12</th>\n      <td>Persistência com .NET</td>\n    </tr>\n    <tr>\n      <th>13</th>\n      <td>Desenvolvendo jogos</td>\n    </tr>\n    <tr>\n      <th>14</th>\n      <td>Análise de dados</td>\n    </tr>\n    <tr>\n      <th>15</th>\n      <td>Estatística básica</td>\n    </tr>\n    <tr>\n      <th>16</th>\n      <td>Internet das coisas</td>\n    </tr>\n    <tr>\n      <th>17</th>\n      <td>Programação funcional</td>\n    </tr>\n    <tr>\n      <th>18</th>\n      <td>Boas práticas em Java</td>\n    </tr>\n    <tr>\n      <th>19</th>\n      <td>Orientação objetos com Java</td>\n    </tr>\n  </tbody>\n</table>\n</div>"
     },
     "execution_count": 15,
     "metadata": {},
     "output_type": "execute_result"
    }
   ],
   "source": [
    "cursos = cursos.rename(columns={'Nome do curso' : 'nome_do_curso'})\n",
    "cursos"
   ],
   "metadata": {
    "collapsed": false,
    "pycharm": {
     "name": "#%%\n"
    }
   }
  },
  {
   "cell_type": "code",
   "execution_count": 16,
   "outputs": [
    {
     "data": {
      "text/plain": "           nome_do_curso  id\n0  Lógica de programação   1\n1          Java para Web   2\n2            C# para Web   3\n3          Ruby on Rails   4\n4       Cursos de Python   5",
      "text/html": "<div>\n<style scoped>\n    .dataframe tbody tr th:only-of-type {\n        vertical-align: middle;\n    }\n\n    .dataframe tbody tr th {\n        vertical-align: top;\n    }\n\n    .dataframe thead th {\n        text-align: right;\n    }\n</style>\n<table border=\"1\" class=\"dataframe\">\n  <thead>\n    <tr style=\"text-align: right;\">\n      <th></th>\n      <th>nome_do_curso</th>\n      <th>id</th>\n    </tr>\n  </thead>\n  <tbody>\n    <tr>\n      <th>0</th>\n      <td>Lógica de programação</td>\n      <td>1</td>\n    </tr>\n    <tr>\n      <th>1</th>\n      <td>Java para Web</td>\n      <td>2</td>\n    </tr>\n    <tr>\n      <th>2</th>\n      <td>C# para Web</td>\n      <td>3</td>\n    </tr>\n    <tr>\n      <th>3</th>\n      <td>Ruby on Rails</td>\n      <td>4</td>\n    </tr>\n    <tr>\n      <th>4</th>\n      <td>Cursos de Python</td>\n      <td>5</td>\n    </tr>\n  </tbody>\n</table>\n</div>"
     },
     "execution_count": 16,
     "metadata": {},
     "output_type": "execute_result"
    }
   ],
   "source": [
    "cursos['id'] = cursos.index + 1\n",
    "cursos.head(5)"
   ],
   "metadata": {
    "collapsed": false,
    "pycharm": {
     "name": "#%%\n"
    }
   }
  },
  {
   "cell_type": "markdown",
   "source": [
    "resetando index para usar o id como index"
   ],
   "metadata": {
    "collapsed": false
   }
  },
  {
   "cell_type": "code",
   "execution_count": 17,
   "outputs": [
    {
     "data": {
      "text/plain": "                          nome_do_curso\nid                                     \n1                 Lógica de programação\n2                         Java para Web\n3                           C# para Web\n4                         Ruby on Rails\n5                      Cursos de Python\n6                         PHP com MySql\n7                         .NET para web\n8            Novas integrações com Java\n9                          TDD com Java\n10                  Código limpo com C#\n11  Preparatório para certificação Java\n12                      Hardware básico\n13                Persistência com .NET\n14                  Desenvolvendo jogos\n15                     Análise de dados\n16                   Estatística básica\n17                  Internet das coisas\n18                Programação funcional\n19                Boas práticas em Java\n20          Orientação objetos com Java",
      "text/html": "<div>\n<style scoped>\n    .dataframe tbody tr th:only-of-type {\n        vertical-align: middle;\n    }\n\n    .dataframe tbody tr th {\n        vertical-align: top;\n    }\n\n    .dataframe thead th {\n        text-align: right;\n    }\n</style>\n<table border=\"1\" class=\"dataframe\">\n  <thead>\n    <tr style=\"text-align: right;\">\n      <th></th>\n      <th>nome_do_curso</th>\n    </tr>\n    <tr>\n      <th>id</th>\n      <th></th>\n    </tr>\n  </thead>\n  <tbody>\n    <tr>\n      <th>1</th>\n      <td>Lógica de programação</td>\n    </tr>\n    <tr>\n      <th>2</th>\n      <td>Java para Web</td>\n    </tr>\n    <tr>\n      <th>3</th>\n      <td>C# para Web</td>\n    </tr>\n    <tr>\n      <th>4</th>\n      <td>Ruby on Rails</td>\n    </tr>\n    <tr>\n      <th>5</th>\n      <td>Cursos de Python</td>\n    </tr>\n    <tr>\n      <th>6</th>\n      <td>PHP com MySql</td>\n    </tr>\n    <tr>\n      <th>7</th>\n      <td>.NET para web</td>\n    </tr>\n    <tr>\n      <th>8</th>\n      <td>Novas integrações com Java</td>\n    </tr>\n    <tr>\n      <th>9</th>\n      <td>TDD com Java</td>\n    </tr>\n    <tr>\n      <th>10</th>\n      <td>Código limpo com C#</td>\n    </tr>\n    <tr>\n      <th>11</th>\n      <td>Preparatório para certificação Java</td>\n    </tr>\n    <tr>\n      <th>12</th>\n      <td>Hardware básico</td>\n    </tr>\n    <tr>\n      <th>13</th>\n      <td>Persistência com .NET</td>\n    </tr>\n    <tr>\n      <th>14</th>\n      <td>Desenvolvendo jogos</td>\n    </tr>\n    <tr>\n      <th>15</th>\n      <td>Análise de dados</td>\n    </tr>\n    <tr>\n      <th>16</th>\n      <td>Estatística básica</td>\n    </tr>\n    <tr>\n      <th>17</th>\n      <td>Internet das coisas</td>\n    </tr>\n    <tr>\n      <th>18</th>\n      <td>Programação funcional</td>\n    </tr>\n    <tr>\n      <th>19</th>\n      <td>Boas práticas em Java</td>\n    </tr>\n    <tr>\n      <th>20</th>\n      <td>Orientação objetos com Java</td>\n    </tr>\n  </tbody>\n</table>\n</div>"
     },
     "execution_count": 17,
     "metadata": {},
     "output_type": "execute_result"
    }
   ],
   "source": [
    "cursos = cursos.set_index('id')\n",
    "cursos"
   ],
   "metadata": {
    "collapsed": false,
    "pycharm": {
     "name": "#%%\n"
    }
   }
  },
  {
   "cell_type": "markdown",
   "source": [
    "Matriculando os alunos nos cursos"
   ],
   "metadata": {
    "collapsed": false
   }
  },
  {
   "cell_type": "code",
   "execution_count": 18,
   "outputs": [
    {
     "data": {
      "text/plain": "        nome  id_aluno                 dominio                         email  \\\n0       JOSE       235  @dominiodoemail.com.br    jose@dominiodoemail.com.br   \n1       JOAO        43     @servicodoemail.com       joao@servicodoemail.com   \n2    ANTONIO       304     @servicodoemail.com    antonio@servicodoemail.com   \n3  FRANCISCO       156     @servicodoemail.com  francisco@servicodoemail.com   \n4     CARLOS       343     @servicodoemail.com     carlos@servicodoemail.com   \n\n   matriculas  \n0           3  \n1           1  \n2           1  \n3           3  \n4           1  ",
      "text/html": "<div>\n<style scoped>\n    .dataframe tbody tr th:only-of-type {\n        vertical-align: middle;\n    }\n\n    .dataframe tbody tr th {\n        vertical-align: top;\n    }\n\n    .dataframe thead th {\n        text-align: right;\n    }\n</style>\n<table border=\"1\" class=\"dataframe\">\n  <thead>\n    <tr style=\"text-align: right;\">\n      <th></th>\n      <th>nome</th>\n      <th>id_aluno</th>\n      <th>dominio</th>\n      <th>email</th>\n      <th>matriculas</th>\n    </tr>\n  </thead>\n  <tbody>\n    <tr>\n      <th>0</th>\n      <td>JOSE</td>\n      <td>235</td>\n      <td>@dominiodoemail.com.br</td>\n      <td>jose@dominiodoemail.com.br</td>\n      <td>3</td>\n    </tr>\n    <tr>\n      <th>1</th>\n      <td>JOAO</td>\n      <td>43</td>\n      <td>@servicodoemail.com</td>\n      <td>joao@servicodoemail.com</td>\n      <td>1</td>\n    </tr>\n    <tr>\n      <th>2</th>\n      <td>ANTONIO</td>\n      <td>304</td>\n      <td>@servicodoemail.com</td>\n      <td>antonio@servicodoemail.com</td>\n      <td>1</td>\n    </tr>\n    <tr>\n      <th>3</th>\n      <td>FRANCISCO</td>\n      <td>156</td>\n      <td>@servicodoemail.com</td>\n      <td>francisco@servicodoemail.com</td>\n      <td>3</td>\n    </tr>\n    <tr>\n      <th>4</th>\n      <td>CARLOS</td>\n      <td>343</td>\n      <td>@servicodoemail.com</td>\n      <td>carlos@servicodoemail.com</td>\n      <td>1</td>\n    </tr>\n  </tbody>\n</table>\n</div>"
     },
     "execution_count": 18,
     "metadata": {},
     "output_type": "execute_result"
    }
   ],
   "source": [
    "nomes['matriculas'] = np.ceil((np.random.exponential(size = total_alunos) * 1.5)).astype(int)\n",
    "nomes.head(5)"
   ],
   "metadata": {
    "collapsed": false,
    "pycharm": {
     "name": "#%%\n"
    }
   }
  },
  {
   "cell_type": "code",
   "execution_count": 19,
   "outputs": [
    {
     "data": {
      "text/plain": "count    400.000000\nmean       2.137500\nstd        1.511392\nmin        1.000000\n25%        1.000000\n50%        2.000000\n75%        3.000000\nmax        9.000000\nName: matriculas, dtype: float64"
     },
     "execution_count": 19,
     "metadata": {},
     "output_type": "execute_result"
    }
   ],
   "source": [
    "nomes.matriculas.describe()"
   ],
   "metadata": {
    "collapsed": false,
    "pycharm": {
     "name": "#%%\n"
    }
   }
  },
  {
   "cell_type": "markdown",
   "source": [
    "Plotagem das matriculas"
   ],
   "metadata": {
    "collapsed": false
   }
  },
  {
   "cell_type": "code",
   "execution_count": 20,
   "outputs": [],
   "source": [
    "import seaborn as sns"
   ],
   "metadata": {
    "collapsed": false,
    "pycharm": {
     "name": "#%%\n"
    }
   }
  },
  {
   "cell_type": "code",
   "execution_count": 21,
   "outputs": [
    {
     "name": "stderr",
     "output_type": "stream",
     "text": [
      "C:\\Users\\barba\\anaconda3\\envs\\data-analysis-school\\lib\\site-packages\\seaborn\\distributions.py:2557: FutureWarning: `distplot` is a deprecated function and will be removed in a future version. Please adapt your code to use either `displot` (a figure-level function with similar flexibility) or `histplot` (an axes-level function for histograms).\n",
      "  warnings.warn(msg, FutureWarning)\n"
     ]
    },
    {
     "data": {
      "text/plain": "<AxesSubplot:xlabel='matriculas', ylabel='Density'>"
     },
     "execution_count": 21,
     "metadata": {},
     "output_type": "execute_result"
    },
    {
     "data": {
      "text/plain": "<Figure size 432x288 with 1 Axes>",
      "image/png": "[encoded data removed]"
     },
     "metadata": {
      "needs_background": "light"
     },
     "output_type": "display_data"
    }
   ],
   "source": [
    "sns.distplot(nomes.matriculas, norm_hist=True)"
   ],
   "metadata": {
    "collapsed": false,
    "pycharm": {
     "name": "#%%\n"
    }
   }
  },
  {
   "cell_type": "code",
   "execution_count": 22,
   "outputs": [
    {
     "data": {
      "text/plain": "1    183\n2    106\n3     52\n4     23\n5     18\n6     10\n7      4\n8      2\n9      2\nName: matriculas, dtype: int64"
     },
     "execution_count": 22,
     "metadata": {},
     "output_type": "execute_result"
    }
   ],
   "source": [
    "nomes.matriculas.value_counts()"
   ],
   "metadata": {
    "collapsed": false,
    "pycharm": {
     "name": "#%%\n"
    }
   }
  },
  {
   "cell_type": "markdown",
   "source": [
    "Selecionar os cursos nos quais os alunos estão inscritos"
   ],
   "metadata": {
    "collapsed": false
   }
  },
  {
   "cell_type": "code",
   "execution_count": 23,
   "outputs": [],
   "source": [
    "qtd_matriculas = []\n",
    "x = np.random.rand(20)\n",
    "prob = x / sum(x)\n"
   ],
   "metadata": {
    "collapsed": false,
    "pycharm": {
     "name": "#%%\n"
    }
   }
  },
  {
   "cell_type": "markdown",
   "source": [
    "Atribuindo curso aleatoriamente"
   ],
   "metadata": {
    "collapsed": false,
    "pycharm": {
     "name": "#%% md\n"
    }
   }
  },
  {
   "cell_type": "code",
   "execution_count": 24,
   "outputs": [
    {
     "data": {
      "text/plain": "   id_aluno  id_curso\n0       235        11\n1       235        11\n2       235         2\n3        43        13\n4       304        10",
      "text/html": "<div>\n<style scoped>\n    .dataframe tbody tr th:only-of-type {\n        vertical-align: middle;\n    }\n\n    .dataframe tbody tr th {\n        vertical-align: top;\n    }\n\n    .dataframe thead th {\n        text-align: right;\n    }\n</style>\n<table border=\"1\" class=\"dataframe\">\n  <thead>\n    <tr style=\"text-align: right;\">\n      <th></th>\n      <th>id_aluno</th>\n      <th>id_curso</th>\n    </tr>\n  </thead>\n  <tbody>\n    <tr>\n      <th>0</th>\n      <td>235</td>\n      <td>11</td>\n    </tr>\n    <tr>\n      <th>1</th>\n      <td>235</td>\n      <td>11</td>\n    </tr>\n    <tr>\n      <th>2</th>\n      <td>235</td>\n      <td>2</td>\n    </tr>\n    <tr>\n      <th>3</th>\n      <td>43</td>\n      <td>13</td>\n    </tr>\n    <tr>\n      <th>4</th>\n      <td>304</td>\n      <td>10</td>\n    </tr>\n  </tbody>\n</table>\n</div>"
     },
     "execution_count": 24,
     "metadata": {},
     "output_type": "execute_result"
    }
   ],
   "source": [
    "for index, row in nomes.iterrows():\n",
    "    id = row.id_aluno\n",
    "    matriculas = row.matriculas\n",
    "    for i in range(matriculas):\n",
    "        mat = [id, np.random.choice(cursos.index, p = prob)]\n",
    "        qtd_matriculas.append(mat)\n",
    "matriculas = pd.DataFrame(qtd_matriculas, columns=['id_aluno', 'id_curso'])\n",
    "matriculas.head()"
   ],
   "metadata": {
    "collapsed": false,
    "pycharm": {
     "name": "#%%\n"
    }
   }
  },
  {
   "cell_type": "code",
   "execution_count": 25,
   "outputs": [
    {
     "data": {
      "text/plain": "          quantidade_de_alunos                        nome_do_curso\nid_curso                                                           \n1                            8                Lógica de programação\n2                           81                        Java para Web\n3                           18                          C# para Web\n4                           17                        Ruby on Rails\n5                           24                     Cursos de Python\n6                           68                        PHP com MySql\n7                            4                        .NET para web\n8                           54           Novas integrações com Java\n9                           68                         TDD com Java\n10                          48                  Código limpo com C#\n11                          57  Preparatório para certificação Java\n12                          12                      Hardware básico\n13                          45                Persistência com .NET\n14                          46                  Desenvolvendo jogos\n15                          26                     Análise de dados\n16                          71                   Estatística básica\n17                          37                  Internet das coisas\n18                          79                Programação funcional\n19                          59                Boas práticas em Java\n20                          33          Orientação objetos com Java",
      "text/html": "<div>\n<style scoped>\n    .dataframe tbody tr th:only-of-type {\n        vertical-align: middle;\n    }\n\n    .dataframe tbody tr th {\n        vertical-align: top;\n    }\n\n    .dataframe thead th {\n        text-align: right;\n    }\n</style>\n<table border=\"1\" class=\"dataframe\">\n  <thead>\n    <tr style=\"text-align: right;\">\n      <th></th>\n      <th>quantidade_de_alunos</th>\n      <th>nome_do_curso</th>\n    </tr>\n    <tr>\n      <th>id_curso</th>\n      <th></th>\n      <th></th>\n    </tr>\n  </thead>\n  <tbody>\n    <tr>\n      <th>1</th>\n      <td>8</td>\n      <td>Lógica de programação</td>\n    </tr>\n    <tr>\n      <th>2</th>\n      <td>81</td>\n      <td>Java para Web</td>\n    </tr>\n    <tr>\n      <th>3</th>\n      <td>18</td>\n      <td>C# para Web</td>\n    </tr>\n    <tr>\n      <th>4</th>\n      <td>17</td>\n      <td>Ruby on Rails</td>\n    </tr>\n    <tr>\n      <th>5</th>\n      <td>24</td>\n      <td>Cursos de Python</td>\n    </tr>\n    <tr>\n      <th>6</th>\n      <td>68</td>\n      <td>PHP com MySql</td>\n    </tr>\n    <tr>\n      <th>7</th>\n      <td>4</td>\n      <td>.NET para web</td>\n    </tr>\n    <tr>\n      <th>8</th>\n      <td>54</td>\n      <td>Novas integrações com Java</td>\n    </tr>\n    <tr>\n      <th>9</th>\n      <td>68</td>\n      <td>TDD com Java</td>\n    </tr>\n    <tr>\n      <th>10</th>\n      <td>48</td>\n      <td>Código limpo com C#</td>\n    </tr>\n    <tr>\n      <th>11</th>\n      <td>57</td>\n      <td>Preparatório para certificação Java</td>\n    </tr>\n    <tr>\n      <th>12</th>\n      <td>12</td>\n      <td>Hardware básico</td>\n    </tr>\n    <tr>\n      <th>13</th>\n      <td>45</td>\n      <td>Persistência com .NET</td>\n    </tr>\n    <tr>\n      <th>14</th>\n      <td>46</td>\n      <td>Desenvolvendo jogos</td>\n    </tr>\n    <tr>\n      <th>15</th>\n      <td>26</td>\n      <td>Análise de dados</td>\n    </tr>\n    <tr>\n      <th>16</th>\n      <td>71</td>\n      <td>Estatística básica</td>\n    </tr>\n    <tr>\n      <th>17</th>\n      <td>37</td>\n      <td>Internet das coisas</td>\n    </tr>\n    <tr>\n      <th>18</th>\n      <td>79</td>\n      <td>Programação funcional</td>\n    </tr>\n    <tr>\n      <th>19</th>\n      <td>59</td>\n      <td>Boas práticas em Java</td>\n    </tr>\n    <tr>\n      <th>20</th>\n      <td>33</td>\n      <td>Orientação objetos com Java</td>\n    </tr>\n  </tbody>\n</table>\n</div>"
     },
     "execution_count": 25,
     "metadata": {},
     "output_type": "execute_result"
    }
   ],
   "source": [
    "matriculas_cursos = matriculas.groupby('id_curso').count().join(cursos['nome_do_curso']).rename(columns={'id_aluno':'quantidade_de_alunos'})\n",
    "matriculas_cursos"
   ],
   "metadata": {
    "collapsed": false,
    "pycharm": {
     "name": "#%%\n"
    }
   }
  },
  {
   "cell_type": "markdown",
   "source": [
    "Saída em diferentes formatos"
   ],
   "metadata": {
    "collapsed": false
   }
  },
  {
   "cell_type": "code",
   "execution_count": 26,
   "outputs": [],
   "source": [
    "matriculas_cursos.to_csv('matriculas_por_curso.csv', index=False)"
   ],
   "metadata": {
    "collapsed": false,
    "pycharm": {
     "name": "#%%\n"
    }
   }
  },
  {
   "cell_type": "code",
   "execution_count": 27,
   "outputs": [],
   "source": [
    "matriculas_json = matriculas_cursos.to_json('matriculas_por_curso.json')"
   ],
   "metadata": {
    "collapsed": false,
    "pycharm": {
     "name": "#%%\n"
    }
   }
  },
  {
   "cell_type": "code",
   "execution_count": 28,
   "outputs": [],
   "source": [
    "matriculas_html = matriculas_cursos.to_html('matriculas_por_curso.html')"
   ],
   "metadata": {
    "collapsed": false,
    "pycharm": {
     "name": "#%%\n"
    }
   }
  },
  {
   "cell_type": "markdown",
   "source": [
    "Criando bando SQL"
   ],
   "metadata": {
    "collapsed": false
   }
  },
  {
   "cell_type": "code",
   "execution_count": 29,
   "outputs": [],
   "source": [
    "from sqlalchemy import create_engine, MetaData, Table"
   ],
   "metadata": {
    "collapsed": false,
    "pycharm": {
     "name": "#%%\n"
    }
   }
  },
  {
   "cell_type": "code",
   "execution_count": 30,
   "outputs": [
    {
     "data": {
      "text/plain": "Engine(sqlite:///:memory:)"
     },
     "execution_count": 30,
     "metadata": {},
     "output_type": "execute_result"
    }
   ],
   "source": [
    "engine = create_engine('sqlite:///:memory:')\n",
    "engine"
   ],
   "metadata": {
    "collapsed": false,
    "pycharm": {
     "name": "#%%\n"
    }
   }
  },
  {
   "cell_type": "code",
   "execution_count": 31,
   "outputs": [
    {
     "data": {
      "text/plain": "sqlalchemy.engine.base.Engine"
     },
     "execution_count": 31,
     "metadata": {},
     "output_type": "execute_result"
    }
   ],
   "source": [
    "type(engine)"
   ],
   "metadata": {
    "collapsed": false,
    "pycharm": {
     "name": "#%%\n"
    }
   }
  },
  {
   "cell_type": "code",
   "execution_count": 32,
   "outputs": [],
   "source": [
    "matriculas_cursos.to_sql('matriculas', engine)"
   ],
   "metadata": {
    "collapsed": false,
    "pycharm": {
     "name": "#%%\n"
    }
   }
  },
  {
   "cell_type": "code",
   "execution_count": 33,
   "outputs": [
    {
     "name": "stdout",
     "output_type": "stream",
     "text": [
      "['matriculas']\n"
     ]
    },
    {
     "name": "stderr",
     "output_type": "stream",
     "text": [
      "C:\\Users\\barba\\anaconda3\\envs\\data-analysis-school\\lib\\site-packages\\ipykernel_launcher.py:1: SADeprecationWarning: The Engine.table_names() method is deprecated and will be removed in a future release.  Please refer to Inspector.get_table_names(). (deprecated since: 1.4)\n",
      "  \"\"\"Entry point for launching an IPython kernel.\n"
     ]
    }
   ],
   "source": [
    "print(engine.table_names())"
   ],
   "metadata": {
    "collapsed": false,
    "pycharm": {
     "name": "#%%\n"
    }
   }
  },
  {
   "cell_type": "markdown",
   "source": [
    "Buscando no banco SQL"
   ],
   "metadata": {
    "collapsed": false
   }
  },
  {
   "cell_type": "code",
   "execution_count": 34,
   "outputs": [
    {
     "data": {
      "text/plain": "   id_curso  quantidade_de_alunos          nome_do_curso\n0         1                     8  Lógica de programação\n1         3                    18            C# para Web\n2         4                    17          Ruby on Rails\n3         7                     4          .NET para web\n4        12                    12        Hardware básico",
      "text/html": "<div>\n<style scoped>\n    .dataframe tbody tr th:only-of-type {\n        vertical-align: middle;\n    }\n\n    .dataframe tbody tr th {\n        vertical-align: top;\n    }\n\n    .dataframe thead th {\n        text-align: right;\n    }\n</style>\n<table border=\"1\" class=\"dataframe\">\n  <thead>\n    <tr style=\"text-align: right;\">\n      <th></th>\n      <th>id_curso</th>\n      <th>quantidade_de_alunos</th>\n      <th>nome_do_curso</th>\n    </tr>\n  </thead>\n  <tbody>\n    <tr>\n      <th>0</th>\n      <td>1</td>\n      <td>8</td>\n      <td>Lógica de programação</td>\n    </tr>\n    <tr>\n      <th>1</th>\n      <td>3</td>\n      <td>18</td>\n      <td>C# para Web</td>\n    </tr>\n    <tr>\n      <th>2</th>\n      <td>4</td>\n      <td>17</td>\n      <td>Ruby on Rails</td>\n    </tr>\n    <tr>\n      <th>3</th>\n      <td>7</td>\n      <td>4</td>\n      <td>.NET para web</td>\n    </tr>\n    <tr>\n      <th>4</th>\n      <td>12</td>\n      <td>12</td>\n      <td>Hardware básico</td>\n    </tr>\n  </tbody>\n</table>\n</div>"
     },
     "execution_count": 34,
     "metadata": {},
     "output_type": "execute_result"
    }
   ],
   "source": [
    "query = 'select * from matriculas where quantidade_de_alunos < 20'\n",
    "pd.read_sql(query, engine)"
   ],
   "metadata": {
    "collapsed": false,
    "pycharm": {
     "name": "#%%\n"
    }
   }
  },
  {
   "cell_type": "code",
   "source": [
    "muitas_matriculas = pd.read_sql('matriculas', engine, columns=['nome_do_curso', 'quantidade_de_alunos'])\n",
    "muitas_matriculas"
   ],
   "metadata": {
    "collapsed": false,
    "pycharm": {
     "name": "#%% \n"
    }
   },
   "execution_count": 35,
   "outputs": [
    {
     "data": {
      "text/plain": "                          nome_do_curso  quantidade_de_alunos\n0                 Lógica de programação                     8\n1                         Java para Web                    81\n2                           C# para Web                    18\n3                         Ruby on Rails                    17\n4                      Cursos de Python                    24\n5                         PHP com MySql                    68\n6                         .NET para web                     4\n7            Novas integrações com Java                    54\n8                          TDD com Java                    68\n9                   Código limpo com C#                    48\n10  Preparatório para certificação Java                    57\n11                      Hardware básico                    12\n12                Persistência com .NET                    45\n13                  Desenvolvendo jogos                    46\n14                     Análise de dados                    26\n15                   Estatística básica                    71\n16                  Internet das coisas                    37\n17                Programação funcional                    79\n18                Boas práticas em Java                    59\n19          Orientação objetos com Java                    33",
      "text/html": "<div>\n<style scoped>\n    .dataframe tbody tr th:only-of-type {\n        vertical-align: middle;\n    }\n\n    .dataframe tbody tr th {\n        vertical-align: top;\n    }\n\n    .dataframe thead th {\n        text-align: right;\n    }\n</style>\n<table border=\"1\" class=\"dataframe\">\n  <thead>\n    <tr style=\"text-align: right;\">\n      <th></th>\n      <th>nome_do_curso</th>\n      <th>quantidade_de_alunos</th>\n    </tr>\n  </thead>\n  <tbody>\n    <tr>\n      <th>0</th>\n      <td>Lógica de programação</td>\n      <td>8</td>\n    </tr>\n    <tr>\n      <th>1</th>\n      <td>Java para Web</td>\n      <td>81</td>\n    </tr>\n    <tr>\n      <th>2</th>\n      <td>C# para Web</td>\n      <td>18</td>\n    </tr>\n    <tr>\n      <th>3</th>\n      <td>Ruby on Rails</td>\n      <td>17</td>\n    </tr>\n    <tr>\n      <th>4</th>\n      <td>Cursos de Python</td>\n      <td>24</td>\n    </tr>\n    <tr>\n      <th>5</th>\n      <td>PHP com MySql</td>\n      <td>68</td>\n    </tr>\n    <tr>\n      <th>6</th>\n      <td>.NET para web</td>\n      <td>4</td>\n    </tr>\n    <tr>\n      <th>7</th>\n      <td>Novas integrações com Java</td>\n      <td>54</td>\n    </tr>\n    <tr>\n      <th>8</th>\n      <td>TDD com Java</td>\n      <td>68</td>\n    </tr>\n    <tr>\n      <th>9</th>\n      <td>Código limpo com C#</td>\n      <td>48</td>\n    </tr>\n    <tr>\n      <th>10</th>\n      <td>Preparatório para certificação Java</td>\n      <td>57</td>\n    </tr>\n    <tr>\n      <th>11</th>\n      <td>Hardware básico</td>\n      <td>12</td>\n    </tr>\n    <tr>\n      <th>12</th>\n      <td>Persistência com .NET</td>\n      <td>45</td>\n    </tr>\n    <tr>\n      <th>13</th>\n      <td>Desenvolvendo jogos</td>\n      <td>46</td>\n    </tr>\n    <tr>\n      <th>14</th>\n      <td>Análise de dados</td>\n      <td>26</td>\n    </tr>\n    <tr>\n      <th>15</th>\n      <td>Estatística básica</td>\n      <td>71</td>\n    </tr>\n    <tr>\n      <th>16</th>\n      <td>Internet das coisas</td>\n      <td>37</td>\n    </tr>\n    <tr>\n      <th>17</th>\n      <td>Programação funcional</td>\n      <td>79</td>\n    </tr>\n    <tr>\n      <th>18</th>\n      <td>Boas práticas em Java</td>\n      <td>59</td>\n    </tr>\n    <tr>\n      <th>19</th>\n      <td>Orientação objetos com Java</td>\n      <td>33</td>\n    </tr>\n  </tbody>\n</table>\n</div>"
     },
     "execution_count": 35,
     "metadata": {},
     "output_type": "execute_result"
    }
   ]
  },
  {
   "cell_type": "code",
   "execution_count": 36,
   "outputs": [
    {
     "data": {
      "text/plain": "            nome_do_curso  quantidade_de_alunos\n1           Java para Web                    81\n5           PHP com MySql                    68\n8            TDD com Java                    68\n15     Estatística básica                    71\n17  Programação funcional                    79",
      "text/html": "<div>\n<style scoped>\n    .dataframe tbody tr th:only-of-type {\n        vertical-align: middle;\n    }\n\n    .dataframe tbody tr th {\n        vertical-align: top;\n    }\n\n    .dataframe thead th {\n        text-align: right;\n    }\n</style>\n<table border=\"1\" class=\"dataframe\">\n  <thead>\n    <tr style=\"text-align: right;\">\n      <th></th>\n      <th>nome_do_curso</th>\n      <th>quantidade_de_alunos</th>\n    </tr>\n  </thead>\n  <tbody>\n    <tr>\n      <th>1</th>\n      <td>Java para Web</td>\n      <td>81</td>\n    </tr>\n    <tr>\n      <th>5</th>\n      <td>PHP com MySql</td>\n      <td>68</td>\n    </tr>\n    <tr>\n      <th>8</th>\n      <td>TDD com Java</td>\n      <td>68</td>\n    </tr>\n    <tr>\n      <th>15</th>\n      <td>Estatística básica</td>\n      <td>71</td>\n    </tr>\n    <tr>\n      <th>17</th>\n      <td>Programação funcional</td>\n      <td>79</td>\n    </tr>\n  </tbody>\n</table>\n</div>"
     },
     "execution_count": 36,
     "metadata": {},
     "output_type": "execute_result"
    }
   ],
   "source": [
    "muitas_matriculas = muitas_matriculas.query('quantidade_de_alunos > 60')\n",
    "muitas_matriculas"
   ],
   "metadata": {
    "collapsed": false,
    "pycharm": {
     "name": "#%%\n"
    }
   }
  },
  {
   "cell_type": "markdown",
   "source": [
    "Escrevendo no banco SQL"
   ],
   "metadata": {
    "collapsed": false
   }
  },
  {
   "cell_type": "code",
   "execution_count": 37,
   "outputs": [
    {
     "name": "stdout",
     "output_type": "stream",
     "text": [
      "['matriculas', 'muitas_matriculas']\n"
     ]
    },
    {
     "name": "stderr",
     "output_type": "stream",
     "text": [
      "C:\\Users\\barba\\anaconda3\\envs\\data-analysis-school\\lib\\site-packages\\ipykernel_launcher.py:2: SADeprecationWarning: The Engine.table_names() method is deprecated and will be removed in a future release.  Please refer to Inspector.get_table_names(). (deprecated since: 1.4)\n",
      "  \n"
     ]
    }
   ],
   "source": [
    "muitas_matriculas.to_sql('muitas_matriculas', con=engine)\n",
    "print(engine.table_names())"
   ],
   "metadata": {
    "collapsed": false,
    "pycharm": {
     "name": "#%%\n"
    }
   }
  },
  {
   "cell_type": "markdown",
   "source": [
    "Nomes da próxima turma"
   ],
   "metadata": {
    "collapsed": false
   }
  },
  {
   "cell_type": "code",
   "execution_count": 38,
   "outputs": [
    {
     "data": {
      "text/plain": "     id_aluno  id_curso\n21        174        16\n22        174        16\n23        218        16\n28        217        16\n77        262        16\n..        ...       ...\n761       169        16\n787       100        16\n791       362        16\n839       215        16\n844       107        16\n\n[71 rows x 2 columns]",
      "text/html": "<div>\n<style scoped>\n    .dataframe tbody tr th:only-of-type {\n        vertical-align: middle;\n    }\n\n    .dataframe tbody tr th {\n        vertical-align: top;\n    }\n\n    .dataframe thead th {\n        text-align: right;\n    }\n</style>\n<table border=\"1\" class=\"dataframe\">\n  <thead>\n    <tr style=\"text-align: right;\">\n      <th></th>\n      <th>id_aluno</th>\n      <th>id_curso</th>\n    </tr>\n  </thead>\n  <tbody>\n    <tr>\n      <th>21</th>\n      <td>174</td>\n      <td>16</td>\n    </tr>\n    <tr>\n      <th>22</th>\n      <td>174</td>\n      <td>16</td>\n    </tr>\n    <tr>\n      <th>23</th>\n      <td>218</td>\n      <td>16</td>\n    </tr>\n    <tr>\n      <th>28</th>\n      <td>217</td>\n      <td>16</td>\n    </tr>\n    <tr>\n      <th>77</th>\n      <td>262</td>\n      <td>16</td>\n    </tr>\n    <tr>\n      <th>...</th>\n      <td>...</td>\n      <td>...</td>\n    </tr>\n    <tr>\n      <th>761</th>\n      <td>169</td>\n      <td>16</td>\n    </tr>\n    <tr>\n      <th>787</th>\n      <td>100</td>\n      <td>16</td>\n    </tr>\n    <tr>\n      <th>791</th>\n      <td>362</td>\n      <td>16</td>\n    </tr>\n    <tr>\n      <th>839</th>\n      <td>215</td>\n      <td>16</td>\n    </tr>\n    <tr>\n      <th>844</th>\n      <td>107</td>\n      <td>16</td>\n    </tr>\n  </tbody>\n</table>\n<p>71 rows × 2 columns</p>\n</div>"
     },
     "execution_count": 38,
     "metadata": {},
     "output_type": "execute_result"
    }
   ],
   "source": [
    "id_curso = 16\n",
    "proxima_turma = matriculas.query('id_curso == {}'.format(id_curso))\n",
    "proxima_turma"
   ],
   "metadata": {
    "collapsed": false,
    "pycharm": {
     "name": "#%%\n"
    }
   }
  },
  {
   "cell_type": "code",
   "execution_count": 39,
   "outputs": [
    {
     "data": {
      "text/plain": "          id_curso      nome                 dominio  \\\nid_aluno                                               \n2               16      LAIS  @dominiodoemail.com.br   \n5               16     JOSUE     @servicodoemail.com   \n6               16      ADAO     @servicodoemail.com   \n13              16  REINALDO     @servicodoemail.com   \n19              16  BENEDITA  @dominiodoemail.com.br   \n...            ...       ...                     ...   \n358             16   LUCIANO     @servicodoemail.com   \n362             16   REGIANE  @dominiodoemail.com.br   \n376             16      NAIR     @servicodoemail.com   \n384             16    RAQUEL     @servicodoemail.com   \n397             16   ALISSON  @dominiodoemail.com.br   \n\n                                   email  matriculas  \nid_aluno                                              \n2             lais@dominiodoemail.com.br           6  \n5               josue@servicodoemail.com           1  \n6                adao@servicodoemail.com           3  \n13           reinaldo@servicodoemail.com           4  \n19        benedita@dominiodoemail.com.br           1  \n...                                  ...         ...  \n358           luciano@servicodoemail.com           3  \n362        regiane@dominiodoemail.com.br           2  \n376              nair@servicodoemail.com           1  \n384            raquel@servicodoemail.com           5  \n397        alisson@dominiodoemail.com.br           3  \n\n[71 rows x 5 columns]",
      "text/html": "<div>\n<style scoped>\n    .dataframe tbody tr th:only-of-type {\n        vertical-align: middle;\n    }\n\n    .dataframe tbody tr th {\n        vertical-align: top;\n    }\n\n    .dataframe thead th {\n        text-align: right;\n    }\n</style>\n<table border=\"1\" class=\"dataframe\">\n  <thead>\n    <tr style=\"text-align: right;\">\n      <th></th>\n      <th>id_curso</th>\n      <th>nome</th>\n      <th>dominio</th>\n      <th>email</th>\n      <th>matriculas</th>\n    </tr>\n    <tr>\n      <th>id_aluno</th>\n      <th></th>\n      <th></th>\n      <th></th>\n      <th></th>\n      <th></th>\n    </tr>\n  </thead>\n  <tbody>\n    <tr>\n      <th>2</th>\n      <td>16</td>\n      <td>LAIS</td>\n      <td>@dominiodoemail.com.br</td>\n      <td>lais@dominiodoemail.com.br</td>\n      <td>6</td>\n    </tr>\n    <tr>\n      <th>5</th>\n      <td>16</td>\n      <td>JOSUE</td>\n      <td>@servicodoemail.com</td>\n      <td>josue@servicodoemail.com</td>\n      <td>1</td>\n    </tr>\n    <tr>\n      <th>6</th>\n      <td>16</td>\n      <td>ADAO</td>\n      <td>@servicodoemail.com</td>\n      <td>adao@servicodoemail.com</td>\n      <td>3</td>\n    </tr>\n    <tr>\n      <th>13</th>\n      <td>16</td>\n      <td>REINALDO</td>\n      <td>@servicodoemail.com</td>\n      <td>reinaldo@servicodoemail.com</td>\n      <td>4</td>\n    </tr>\n    <tr>\n      <th>19</th>\n      <td>16</td>\n      <td>BENEDITA</td>\n      <td>@dominiodoemail.com.br</td>\n      <td>benedita@dominiodoemail.com.br</td>\n      <td>1</td>\n    </tr>\n    <tr>\n      <th>...</th>\n      <td>...</td>\n      <td>...</td>\n      <td>...</td>\n      <td>...</td>\n      <td>...</td>\n    </tr>\n    <tr>\n      <th>358</th>\n      <td>16</td>\n      <td>LUCIANO</td>\n      <td>@servicodoemail.com</td>\n      <td>luciano@servicodoemail.com</td>\n      <td>3</td>\n    </tr>\n    <tr>\n      <th>362</th>\n      <td>16</td>\n      <td>REGIANE</td>\n      <td>@dominiodoemail.com.br</td>\n      <td>regiane@dominiodoemail.com.br</td>\n      <td>2</td>\n    </tr>\n    <tr>\n      <th>376</th>\n      <td>16</td>\n      <td>NAIR</td>\n      <td>@servicodoemail.com</td>\n      <td>nair@servicodoemail.com</td>\n      <td>1</td>\n    </tr>\n    <tr>\n      <th>384</th>\n      <td>16</td>\n      <td>RAQUEL</td>\n      <td>@servicodoemail.com</td>\n      <td>raquel@servicodoemail.com</td>\n      <td>5</td>\n    </tr>\n    <tr>\n      <th>397</th>\n      <td>16</td>\n      <td>ALISSON</td>\n      <td>@dominiodoemail.com.br</td>\n      <td>alisson@dominiodoemail.com.br</td>\n      <td>3</td>\n    </tr>\n  </tbody>\n</table>\n<p>71 rows × 5 columns</p>\n</div>"
     },
     "execution_count": 39,
     "metadata": {},
     "output_type": "execute_result"
    }
   ],
   "source": [
    "proxima_turma.set_index('id_aluno').join(nomes.set_index('id_aluno'))"
   ],
   "metadata": {
    "collapsed": false,
    "pycharm": {
     "name": "#%%\n"
    }
   }
  },
  {
   "cell_type": "code",
   "execution_count": 40,
   "outputs": [
    {
     "data": {
      "text/plain": "id_aluno\n2          LAIS\n5         JOSUE\n6          ADAO\n13     REINALDO\n19     BENEDITA\n         ...   \n358     LUCIANO\n362     REGIANE\n376        NAIR\n384      RAQUEL\n397     ALISSON\nName: nome, Length: 71, dtype: object"
     },
     "execution_count": 40,
     "metadata": {},
     "output_type": "execute_result"
    }
   ],
   "source": [
    "proxima_turma.set_index('id_aluno').join(nomes.set_index('id_aluno'))['nome']"
   ],
   "metadata": {
    "collapsed": false,
    "pycharm": {
     "name": "#%%\n"
    }
   }
  },
  {
   "cell_type": "code",
   "execution_count": 41,
   "outputs": [
    {
     "data": {
      "text/plain": "              nome\nid_aluno          \n2             LAIS\n5            JOSUE\n6             ADAO\n13        REINALDO\n19        BENEDITA\n...            ...\n358        LUCIANO\n362        REGIANE\n376           NAIR\n384         RAQUEL\n397        ALISSON\n\n[71 rows x 1 columns]",
      "text/html": "<div>\n<style scoped>\n    .dataframe tbody tr th:only-of-type {\n        vertical-align: middle;\n    }\n\n    .dataframe tbody tr th {\n        vertical-align: top;\n    }\n\n    .dataframe thead th {\n        text-align: right;\n    }\n</style>\n<table border=\"1\" class=\"dataframe\">\n  <thead>\n    <tr style=\"text-align: right;\">\n      <th></th>\n      <th>nome</th>\n    </tr>\n    <tr>\n      <th>id_aluno</th>\n      <th></th>\n    </tr>\n  </thead>\n  <tbody>\n    <tr>\n      <th>2</th>\n      <td>LAIS</td>\n    </tr>\n    <tr>\n      <th>5</th>\n      <td>JOSUE</td>\n    </tr>\n    <tr>\n      <th>6</th>\n      <td>ADAO</td>\n    </tr>\n    <tr>\n      <th>13</th>\n      <td>REINALDO</td>\n    </tr>\n    <tr>\n      <th>19</th>\n      <td>BENEDITA</td>\n    </tr>\n    <tr>\n      <th>...</th>\n      <td>...</td>\n    </tr>\n    <tr>\n      <th>358</th>\n      <td>LUCIANO</td>\n    </tr>\n    <tr>\n      <th>362</th>\n      <td>REGIANE</td>\n    </tr>\n    <tr>\n      <th>376</th>\n      <td>NAIR</td>\n    </tr>\n    <tr>\n      <th>384</th>\n      <td>RAQUEL</td>\n    </tr>\n    <tr>\n      <th>397</th>\n      <td>ALISSON</td>\n    </tr>\n  </tbody>\n</table>\n<p>71 rows × 1 columns</p>\n</div>"
     },
     "execution_count": 41,
     "metadata": {},
     "output_type": "execute_result"
    }
   ],
   "source": [
    "proxima_turma.set_index('id_aluno').join(nomes.set_index('id_aluno'))['nome'].to_frame()"
   ],
   "metadata": {
    "collapsed": false,
    "pycharm": {
     "name": "#%%\n"
    }
   }
  },
  {
   "cell_type": "code",
   "execution_count": 42,
   "outputs": [
    {
     "data": {
      "text/plain": "nome_do_curso    Estatística básica\nName: 16, dtype: object"
     },
     "execution_count": 42,
     "metadata": {},
     "output_type": "execute_result"
    }
   ],
   "source": [
    "nome_curso = cursos.loc[id_curso]\n",
    "nome_curso"
   ],
   "metadata": {
    "collapsed": false,
    "pycharm": {
     "name": "#%%\n"
    }
   }
  },
  {
   "cell_type": "code",
   "execution_count": 43,
   "outputs": [
    {
     "data": {
      "text/plain": "'Estatística básica'"
     },
     "execution_count": 43,
     "metadata": {},
     "output_type": "execute_result"
    }
   ],
   "source": [
    "nome_curso = nome_curso.nome_do_curso\n",
    "nome_curso"
   ],
   "metadata": {
    "collapsed": false,
    "pycharm": {
     "name": "#%%\n"
    }
   }
  },
  {
   "cell_type": "code",
   "execution_count": 45,
   "outputs": [
    {
     "data": {
      "text/plain": "         Alunos do curso de Estatística básica\nid_aluno                                      \n2                                         LAIS\n5                                        JOSUE\n6                                         ADAO\n13                                    REINALDO\n19                                    BENEDITA\n...                                        ...\n358                                    LUCIANO\n362                                    REGIANE\n376                                       NAIR\n384                                     RAQUEL\n397                                    ALISSON\n\n[71 rows x 1 columns]",
      "text/html": "<div>\n<style scoped>\n    .dataframe tbody tr th:only-of-type {\n        vertical-align: middle;\n    }\n\n    .dataframe tbody tr th {\n        vertical-align: top;\n    }\n\n    .dataframe thead th {\n        text-align: right;\n    }\n</style>\n<table border=\"1\" class=\"dataframe\">\n  <thead>\n    <tr style=\"text-align: right;\">\n      <th></th>\n      <th>Alunos do curso de Estatística básica</th>\n    </tr>\n    <tr>\n      <th>id_aluno</th>\n      <th></th>\n    </tr>\n  </thead>\n  <tbody>\n    <tr>\n      <th>2</th>\n      <td>LAIS</td>\n    </tr>\n    <tr>\n      <th>5</th>\n      <td>JOSUE</td>\n    </tr>\n    <tr>\n      <th>6</th>\n      <td>ADAO</td>\n    </tr>\n    <tr>\n      <th>13</th>\n      <td>REINALDO</td>\n    </tr>\n    <tr>\n      <th>19</th>\n      <td>BENEDITA</td>\n    </tr>\n    <tr>\n      <th>...</th>\n      <td>...</td>\n    </tr>\n    <tr>\n      <th>358</th>\n      <td>LUCIANO</td>\n    </tr>\n    <tr>\n      <th>362</th>\n      <td>REGIANE</td>\n    </tr>\n    <tr>\n      <th>376</th>\n      <td>NAIR</td>\n    </tr>\n    <tr>\n      <th>384</th>\n      <td>RAQUEL</td>\n    </tr>\n    <tr>\n      <th>397</th>\n      <td>ALISSON</td>\n    </tr>\n  </tbody>\n</table>\n<p>71 rows × 1 columns</p>\n</div>"
     },
     "execution_count": 45,
     "metadata": {},
     "output_type": "execute_result"
    }
   ],
   "source": [
    "proxima_turma = proxima_turma.set_index('id_aluno').join(nomes.set_index('id_aluno'))['nome'].to_frame()\n",
    "proxima_turma = proxima_turma.rename(columns={'nome':'Alunos do curso de {}'.format(nome_curso)})\n",
    "proxima_turma"
   ],
   "metadata": {
    "collapsed": false,
    "pycharm": {
     "name": "#%%\n"
    }
   }
  },
  {
   "cell_type": "markdown",
   "source": [
    "Exportando para excel"
   ],
   "metadata": {
    "collapsed": false
   }
  },
  {
   "cell_type": "code",
   "source": [
    "proxima_turma.to_excel('proxima_turma.xlsx', index=False)"
   ],
   "metadata": {
    "collapsed": false,
    "pycharm": {
     "name": "#%%\n"
    }
   },
   "execution_count": 47,
   "outputs": []
  }
 ],
 "metadata": {
  "kernelspec": {
   "name": "python3",
   "language": "python",
   "display_name": "Python 3"
  },
  "language_info": {
   "codemirror_mode": {
    "name": "ipython",
    "version": 2
   },
   "file_extension": ".py",
   "mimetype": "text/x-python",
   "name": "python",
   "nbconvert_exporter": "python",
   "pygments_lexer": "ipython2",
   "version": "2.7.6"
  }
 },
 "nbformat": 4,
 "nbformat_minor": 0
}